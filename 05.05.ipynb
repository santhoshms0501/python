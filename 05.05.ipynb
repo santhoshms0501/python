{
 "cells": [
  {
   "cell_type": "markdown",
   "id": "0cf78616-1aa0-4ffd-8cc4-e8575005d8ee",
   "metadata": {},
   "source": [
    "# NUMPY"
   ]
  },
  {
   "cell_type": "code",
   "execution_count": 3,
   "id": "ae642128-a465-4a70-8da3-fb87aac27f6d",
   "metadata": {},
   "outputs": [],
   "source": [
    "import numpy"
   ]
  },
  {
   "cell_type": "code",
   "execution_count": 5,
   "id": "d13f1cfc-5df2-42fb-a498-a3b7cf435b6d",
   "metadata": {},
   "outputs": [
    {
     "name": "stdout",
     "output_type": "stream",
     "text": [
      "[1 2 3 4 5]\n"
     ]
    }
   ],
   "source": [
    "a= numpy.array([1,2,3,4,5])\n",
    "\n",
    "print(a)"
   ]
  },
  {
   "cell_type": "code",
   "execution_count": 7,
   "id": "d399942e-7839-42c5-bf29-d4cfc7e1c630",
   "metadata": {},
   "outputs": [
    {
     "name": "stdout",
     "output_type": "stream",
     "text": [
      "1.26.4\n"
     ]
    }
   ],
   "source": [
    "import numpy as np\n",
    "\n",
    "print(np.__version__)"
   ]
  },
  {
   "cell_type": "code",
   "execution_count": 9,
   "id": "53010dfc-1882-4344-a4d2-af06651f7450",
   "metadata": {},
   "outputs": [
    {
     "name": "stdout",
     "output_type": "stream",
     "text": [
      "[1 2 3 4 5]\n"
     ]
    }
   ],
   "source": [
    "import numpy as np\n",
    "\n",
    "a=np.array([1,2,3,4,5])\n",
    "print(a)"
   ]
  },
  {
   "cell_type": "code",
   "execution_count": 11,
   "id": "e5df37a2-ec5d-4f0d-9729-e7208cb66791",
   "metadata": {},
   "outputs": [
    {
     "name": "stdout",
     "output_type": "stream",
     "text": [
      "[1 2 3 4 5]\n",
      "1\n"
     ]
    }
   ],
   "source": [
    "import numpy as np\n",
    "\n",
    "a=np.array([1,2,3,4,5])\n",
    "print(a)\n",
    "print(a.ndim)"
   ]
  },
  {
   "cell_type": "code",
   "execution_count": 13,
   "id": "82d64ac8-5094-4a43-80c7-ec91c014db02",
   "metadata": {},
   "outputs": [
    {
     "data": {
      "text/plain": [
       "9"
      ]
     },
     "execution_count": 13,
     "metadata": {},
     "output_type": "execute_result"
    }
   ],
   "source": [
    "a=np.array([[1,3],[5,9]])\n",
    "a[1,1]"
   ]
  },
  {
   "cell_type": "code",
   "execution_count": 25,
   "id": "4b9f7e6a-ccf3-48cc-9bd6-093b7c24193f",
   "metadata": {},
   "outputs": [
    {
     "name": "stdout",
     "output_type": "stream",
     "text": [
      "dimension: 3\n"
     ]
    },
    {
     "data": {
      "text/plain": [
       "56"
      ]
     },
     "execution_count": 25,
     "metadata": {},
     "output_type": "execute_result"
    }
   ],
   "source": [
    "import numpy as np \n",
    "b=np.array([[[1,3,5,7,9],[2,4,6,8,10]],[[12,34,56,78,90],[11,22,33,44,55]]])\n",
    "print(\"dimension:\",b.ndim)\n",
    "b[1,0,2]"
   ]
  },
  {
   "cell_type": "code",
   "execution_count": 25,
   "id": "530c71f4-c4fc-4a55-96d0-72ae358609db",
   "metadata": {},
   "outputs": [
    {
     "name": "stdout",
     "output_type": "stream",
     "text": [
      "1\n",
      "[2 3 4]\n"
     ]
    }
   ],
   "source": [
    "import numpy as np\n",
    "\n",
    "a=np.array([1,2,3,4,5])\n",
    "print(a.ndim)\n",
    "print(a[1:4])"
   ]
  },
  {
   "cell_type": "code",
   "execution_count": 33,
   "id": "a6bc736b-f255-4232-be25-c9697a627a5f",
   "metadata": {},
   "outputs": [
    {
     "name": "stdout",
     "output_type": "stream",
     "text": [
      "[6 7 8]\n"
     ]
    }
   ],
   "source": [
    "import numpy as np\n",
    "\n",
    "b=np.array([6,7,8,9,10])\n",
    "print(b[:3])"
   ]
  },
  {
   "cell_type": "code",
   "execution_count": 47,
   "id": "0ced78ed-9c3e-44a6-8fcb-05c6832207f5",
   "metadata": {},
   "outputs": [
    {
     "data": {
      "text/plain": [
       "array([6, 7, 8])"
      ]
     },
     "execution_count": 47,
     "metadata": {},
     "output_type": "execute_result"
    }
   ],
   "source": [
    "import numpy as np\n",
    "\n",
    "a = np.array([[1, 2, 3, 4],[5,6,7,8]])\n",
    "a[1,1:]"
   ]
  },
  {
   "cell_type": "code",
   "execution_count": 53,
   "id": "b581c261-df9a-4b4b-a1a6-96eb0a890c54",
   "metadata": {},
   "outputs": [
    {
     "data": {
      "text/plain": [
       "array([[34, 90, 45, 19]])"
      ]
     },
     "execution_count": 53,
     "metadata": {},
     "output_type": "execute_result"
    }
   ],
   "source": [
    "import numpy as np\n",
    "b = np.array([[[45,67,89,23],[6,7,8,9]],[[19, 52, 13, 19],[34,90,45,19]]])\n",
    "b[1,1:4]"
   ]
  },
  {
   "cell_type": "code",
   "execution_count": null,
   "id": "938f009f-6df7-409b-b37e-63cb4cf12b5f",
   "metadata": {},
   "outputs": [],
   "source": []
  }
 ],
 "metadata": {
  "kernelspec": {
   "display_name": "Python 3 (ipykernel)",
   "language": "python",
   "name": "python3"
  },
  "language_info": {
   "codemirror_mode": {
    "name": "ipython",
    "version": 3
   },
   "file_extension": ".py",
   "mimetype": "text/x-python",
   "name": "python",
   "nbconvert_exporter": "python",
   "pygments_lexer": "ipython3",
   "version": "3.12.7"
  }
 },
 "nbformat": 4,
 "nbformat_minor": 5
}
