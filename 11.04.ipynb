{
 "cells": [
  {
   "cell_type": "code",
   "execution_count": 13,
   "id": "46469fe1-18bf-4ecb-ac18-23a0e2ecf737",
   "metadata": {},
   "outputs": [
    {
     "name": "stdout",
     "output_type": "stream",
     "text": [
      "a is greater\n"
     ]
    }
   ],
   "source": [
    "a=1000\n",
    "b=50\n",
    "c=200\n",
    "\n",
    "if a>=b and a>=c:\n",
    "    print(\"a is greater\")\n",
    "elif b>=a and b>=c:\n",
    "    print(\"b is greater\")\n",
    "else:\n",
    "    print(\"c is greater\")\n"
   ]
  },
  {
   "cell_type": "code",
   "execution_count": 15,
   "id": "287d0656-af53-4f77-a560-9c42c7a5304e",
   "metadata": {},
   "outputs": [
    {
     "name": "stdout",
     "output_type": "stream",
     "text": [
      "[2, 5, 8, 6, 7, 4]\n"
     ]
    }
   ],
   "source": [
    "l=[2,5,8,6,7,3]\n",
    "l[5]=4\n",
    "print(l)"
   ]
  },
  {
   "cell_type": "code",
   "execution_count": 17,
   "id": "0cb7fc85-0bb2-4a0f-b965-1ae28abe341b",
   "metadata": {},
   "outputs": [
    {
     "name": "stdout",
     "output_type": "stream",
     "text": [
      "[2, 5, 8, 6, 7, 4, 50]\n"
     ]
    }
   ],
   "source": [
    "l.append(50)\n",
    "print(l)"
   ]
  },
  {
   "cell_type": "code",
   "execution_count": 21,
   "id": "24dabdf7-342b-4aff-9d99-29aeb6cb4ed2",
   "metadata": {},
   "outputs": [
    {
     "name": "stdout",
     "output_type": "stream",
     "text": [
      "[2, 5, 8, 40, 40, 6, 7, 4, 50]\n"
     ]
    }
   ],
   "source": [
    "l.insert(3,40)\n",
    "print(l)"
   ]
  },
  {
   "cell_type": "code",
   "execution_count": 23,
   "id": "e51ad5ad-e49b-450a-a937-3152b819b94c",
   "metadata": {},
   "outputs": [
    {
     "name": "stdout",
     "output_type": "stream",
     "text": [
      "[2, 5, 8, 40, 40, 6, 7, 4]\n"
     ]
    }
   ],
   "source": [
    "l.pop()\n",
    "print(l)"
   ]
  },
  {
   "cell_type": "code",
   "execution_count": 1,
   "id": "44130350-563f-4916-80ff-9eadb54a1405",
   "metadata": {},
   "outputs": [
    {
     "name": "stdout",
     "output_type": "stream",
     "text": [
      "['apple', 'orange']\n"
     ]
    }
   ],
   "source": [
    "mylist=[\"apple\",\"orange\",\"banana\"]\n",
    "mylist.pop()\n",
    "print(mylist)"
   ]
  },
  {
   "cell_type": "code",
   "execution_count": 3,
   "id": "ebe77415-7e50-4c15-95c8-3e633027035e",
   "metadata": {},
   "outputs": [
    {
     "name": "stdout",
     "output_type": "stream",
     "text": [
      "[2, 82, 9, 65, 55, 77, 34, 5]\n"
     ]
    }
   ],
   "source": [
    "l=[2,82,9,65,77,34,5]\n",
    "l.insert(-3,55)\n",
    "print(l)"
   ]
  },
  {
   "cell_type": "code",
   "execution_count": null,
   "id": "8c72b1c9-e892-4a4f-a47a-1fe22812410c",
   "metadata": {},
   "outputs": [],
   "source": []
  }
 ],
 "metadata": {
  "kernelspec": {
   "display_name": "Python 3 (ipykernel)",
   "language": "python",
   "name": "python3"
  },
  "language_info": {
   "codemirror_mode": {
    "name": "ipython",
    "version": 3
   },
   "file_extension": ".py",
   "mimetype": "text/x-python",
   "name": "python",
   "nbconvert_exporter": "python",
   "pygments_lexer": "ipython3",
   "version": "3.12.7"
  }
 },
 "nbformat": 4,
 "nbformat_minor": 5
}
