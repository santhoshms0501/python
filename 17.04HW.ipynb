{
 "cells": [
  {
   "cell_type": "code",
   "execution_count": 7,
   "id": "d1e0acf2-fead-4a56-9be9-f386c40e9536",
   "metadata": {},
   "outputs": [
    {
     "name": "stdout",
     "output_type": "stream",
     "text": [
      "5\n",
      "10\n",
      "15\n",
      "20\n",
      "25\n"
     ]
    }
   ],
   "source": [
    "for i in range(1,26):\n",
    "    if i %5==0:\n",
    "        print(i)"
   ]
  },
  {
   "cell_type": "code",
   "execution_count": 17,
   "id": "9f931a8b-fa82-4e08-8721-6341ef263e96",
   "metadata": {},
   "outputs": [
    {
     "name": "stdout",
     "output_type": "stream",
     "text": [
      "Length is 5\n"
     ]
    }
   ],
   "source": [
    "l=[5, 6, 78, 8, 990]\n",
    "k=0\n",
    "for i in l:\n",
    "    k += 1\n",
    "print(\"Length is\",k)"
   ]
  },
  {
   "cell_type": "code",
   "execution_count": 19,
   "id": "4e763daf-68e7-408d-9650-4eaaec7daa35",
   "metadata": {},
   "outputs": [
    {
     "name": "stdout",
     "output_type": "stream",
     "text": [
      "34\n",
      "5.5\n",
      "901\n",
      "12\n",
      "556\n",
      "78\n",
      "hi\n",
      "welcome\n"
     ]
    }
   ],
   "source": [
    "a={\"hi\",12,34,556,78,901,\"welcome\",5.5}\n",
    "for i in a:\n",
    "    print(i)"
   ]
  },
  {
   "cell_type": "code",
   "execution_count": 21,
   "id": "f0def8e1-8287-4a85-9ccc-7ea2dae28bd3",
   "metadata": {},
   "outputs": [
    {
     "name": "stdout",
     "output_type": "stream",
     "text": [
      "s\n",
      "a\n",
      "n\n",
      "t\n",
      "h\n",
      "o\n",
      "s\n",
      "h\n",
      " \n",
      "k\n",
      "u\n",
      "m\n",
      "a\n",
      "r\n"
     ]
    }
   ],
   "source": [
    "k=\"santhosh kumar\"\n",
    "for i in k:\n",
    "    print(i)"
   ]
  },
  {
   "cell_type": "code",
   "execution_count": 23,
   "id": "132427d5-7b8e-40ce-bcbc-175dc2fafab0",
   "metadata": {},
   "outputs": [
    {
     "name": "stdout",
     "output_type": "stream",
     "text": [
      "1\n",
      "2\n",
      "3\n",
      "4\n",
      "5\n",
      "6\n",
      "7\n",
      "8\n",
      "9\n",
      "10\n"
     ]
    }
   ],
   "source": [
    "for i in range(1,11):\n",
    "    print(i)"
   ]
  },
  {
   "cell_type": "code",
   "execution_count": 25,
   "id": "58d9b3d7-a055-44b9-a0c6-66fdfe8a5b38",
   "metadata": {},
   "outputs": [
    {
     "name": "stdout",
     "output_type": "stream",
     "text": [
      "Hello world\n",
      "11\n",
      "22\n",
      "33\n",
      "44\n",
      "55\n"
     ]
    }
   ],
   "source": [
    "l=[\"Hello world\",11,22,33,44,55]\n",
    "for i in l:\n",
    "    print(i)"
   ]
  },
  {
   "cell_type": "code",
   "execution_count": 27,
   "id": "ad985090-9238-49f4-b492-92b2466cdd10",
   "metadata": {},
   "outputs": [
    {
     "name": "stdout",
     "output_type": "stream",
     "text": [
      "2\n",
      "4\n",
      "6\n",
      "8\n",
      "10\n",
      "12\n",
      "14\n",
      "16\n",
      "18\n",
      "20\n"
     ]
    }
   ],
   "source": [
    "for i in range(1,21):\n",
    "    if i %2==0:\n",
    "        print(i)"
   ]
  },
  {
   "cell_type": "code",
   "execution_count": 35,
   "id": "118ef053-06db-4004-b1ad-7e722032da88",
   "metadata": {},
   "outputs": [
    {
     "name": "stdout",
     "output_type": "stream",
     "text": [
      "Total 1134\n"
     ]
    }
   ],
   "source": [
    "l=[564,34,89,71,335,41]\n",
    "k=0\n",
    "for i in l:\n",
    "    k += i\n",
    "print(\"Total\",k)\n",
    "    "
   ]
  },
  {
   "cell_type": "code",
   "execution_count": 47,
   "id": "7f6bc2e8-2f2e-4a99-9e12-5c83274f7fdb",
   "metadata": {},
   "outputs": [
    {
     "name": "stdout",
     "output_type": "stream",
     "text": [
      "1 appers 3 times in the list.\n"
     ]
    }
   ],
   "source": [
    "a=[0,1,\"hi\",5,0,\"welcome\",8,8,22,2,1,5,1]\n",
    "b=1\n",
    "\n",
    "count=0\n",
    "for i in a:\n",
    "    if i == b:\n",
    "        count += 1\n",
    "print(f\"{b} appers {count} times in the list.\")"
   ]
  },
  {
   "cell_type": "code",
   "execution_count": 51,
   "id": "317b1715-121c-4c5c-9673-d10d797b05ed",
   "metadata": {},
   "outputs": [
    {
     "name": "stdout",
     "output_type": "stream",
     "text": [
      "[1, 4, 9, 16, 25, 36, 49, 64, 81, 100]\n"
     ]
    }
   ],
   "source": [
    "k=[]\n",
    "for i in range(1,11):\n",
    "    k.append(i**2)\n",
    "\n",
    "print(k)"
   ]
  },
  {
   "cell_type": "code",
   "execution_count": 63,
   "id": "838b2aef-f5b5-4f23-bd49-f3b46bb8f7b6",
   "metadata": {},
   "outputs": [
    {
     "name": "stdout",
     "output_type": "stream",
     "text": [
      "3 x 1 = 3\n",
      "3 x 2 = 6\n",
      "3 x 3 = 9\n",
      "3 x 4 = 12\n",
      "3 x 5 = 15\n",
      "3 x 6 = 18\n",
      "3 x 7 = 21\n",
      "3 x 8 = 24\n",
      "3 x 9 = 27\n",
      "3 x 10 = 30\n"
     ]
    }
   ],
   "source": [
    "k=3\n",
    "for i in range(1,11):\n",
    "    num = k * i\n",
    "    print(f\"{k} x {i} = {num}\")"
   ]
  },
  {
   "cell_type": "code",
   "execution_count": null,
   "id": "7860ac67-d201-48f4-80a0-4dbdd0e3665e",
   "metadata": {},
   "outputs": [],
   "source": []
  }
 ],
 "metadata": {
  "kernelspec": {
   "display_name": "Python 3 (ipykernel)",
   "language": "python",
   "name": "python3"
  },
  "language_info": {
   "codemirror_mode": {
    "name": "ipython",
    "version": 3
   },
   "file_extension": ".py",
   "mimetype": "text/x-python",
   "name": "python",
   "nbconvert_exporter": "python",
   "pygments_lexer": "ipython3",
   "version": "3.12.7"
  }
 },
 "nbformat": 4,
 "nbformat_minor": 5
}
