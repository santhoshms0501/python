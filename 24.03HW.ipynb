{
 "cells": [
  {
   "cell_type": "code",
   "execution_count": 1,
   "id": "609a667d-e544-4dac-adfc-a8173074e6c2",
   "metadata": {},
   "outputs": [
    {
     "name": "stdout",
     "output_type": "stream",
     "text": [
      "True\n"
     ]
    }
   ],
   "source": [
    "a=\"listen\"\n",
    "b=\"silent\"\n",
    "\n",
    "if sorted(a) == sorted(b):\n",
    "    print(\"True\")\n",
    "else:\n",
    "    print(\"False\")\n",
    "    "
   ]
  },
  {
   "cell_type": "code",
   "execution_count": 3,
   "id": "96ea4386-7d00-400e-b833-cb4aaf17bf3e",
   "metadata": {},
   "outputs": [
    {
     "name": "stdin",
     "output_type": "stream",
     "text": [
      "Enter the Word: madam\n"
     ]
    },
    {
     "name": "stdout",
     "output_type": "stream",
     "text": [
      "True\n"
     ]
    }
   ],
   "source": [
    "s=str(input(\"Enter the Word:\"))\n",
    "\n",
    "if s == s[::-1]:\n",
    "    print(\"True\")\n",
    "else:\n",
    "    print(\"False\")"
   ]
  },
  {
   "cell_type": "code",
   "execution_count": 7,
   "id": "be33d23d-daaa-4650-ad3e-b14c1c3a9764",
   "metadata": {},
   "outputs": [
    {
     "name": "stdin",
     "output_type": "stream",
     "text": [
      "Enter a number:  45\n"
     ]
    },
    {
     "name": "stdout",
     "output_type": "stream",
     "text": [
      "45 is not a prime number.\n"
     ]
    }
   ],
   "source": [
    "def check_prime(number):\n",
    "    if number <= 1:\n",
    "        return False\n",
    "    for i in range(2, number):\n",
    "        if number % i == 0:\n",
    "            return False\n",
    "    return True\n",
    "\n",
    "# Get input from the user\n",
    "num = int(input(\"Enter a number: \"))\n",
    "\n",
    "# Call the function and print result\n",
    "if check_prime(num):\n",
    "    print(f\"{num} is a prime number.\")\n",
    "else:\n",
    "    print(f\"{num} is not a prime number.\")\n"
   ]
  },
  {
   "cell_type": "code",
   "execution_count": 31,
   "id": "59263d58-64a0-4e0d-8530-d9eb6b884f97",
   "metadata": {},
   "outputs": [
    {
     "name": "stdin",
     "output_type": "stream",
     "text": [
      "Enter a number: 47\n"
     ]
    },
    {
     "name": "stdout",
     "output_type": "stream",
     "text": [
      "47 is a prime number.\n"
     ]
    }
   ],
   "source": [
    "def prime(a):\n",
    "    if a<=1:\n",
    "        return False\n",
    "    for i in range(2,a):\n",
    "        if a % i == 0:\n",
    "            return False\n",
    "    return True\n",
    "\n",
    "b = int(input(\"Enter a number:\"))\n",
    "\n",
    "if prime(b):\n",
    "    print(f\"{b} is a prime number.\")\n",
    "else:\n",
    "    print(f\"{b} is not a prime number.\")"
   ]
  },
  {
   "cell_type": "code",
   "execution_count": 3,
   "id": "7525a65d-4d43-46fc-80ea-5dc6877a457b",
   "metadata": {},
   "outputs": [
    {
     "name": "stdout",
     "output_type": "stream",
     "text": [
      "7\n"
     ]
    }
   ],
   "source": [
    "k=[1,2,3,4,5,6,7]\n",
    "l=0\n",
    "\n",
    "for i in k:\n",
    "    l+=1\n",
    "\n",
    "print(l)"
   ]
  },
  {
   "cell_type": "code",
   "execution_count": 35,
   "id": "27effea3-ed3d-4d58-af82-239bb9f431a3",
   "metadata": {},
   "outputs": [
    {
     "name": "stdout",
     "output_type": "stream",
     "text": [
      "Yes\n",
      "Yes\n",
      "Yes\n",
      "Yes\n",
      "Yes\n",
      "Yes\n",
      "6\n"
     ]
    }
   ],
   "source": [
    "k=\"Listen\"\n",
    "k1=\"silent\"\n",
    "l=0\n",
    "k=k.lower()\n",
    "\n",
    "for i in k1:\n",
    "    if i in k:\n",
    "        l+=1\n",
    "        print(\"Yes\")\n",
    "    else:\n",
    "        print(\"No\")\n",
    "print(l)        "
   ]
  },
  {
   "cell_type": "code",
   "execution_count": 11,
   "id": "7f687e27-1db3-4e5a-a5f8-144e4516a1a2",
   "metadata": {},
   "outputs": [
    {
     "name": "stdin",
     "output_type": "stream",
     "text": [
      "Enter the number of terms:  11\n"
     ]
    },
    {
     "name": "stdout",
     "output_type": "stream",
     "text": [
      "Fibonacci sequence:\n",
      "0 1 1 2 3 5 8 13 21 34 55 "
     ]
    }
   ],
   "source": [
    "# Fibonacci series up to n terms\n",
    "\n",
    "n= int(input(\"Enter the number of terms: \"))\n",
    "\n",
    "# First two terms\n",
    "a, b = 0, 1\n",
    "c = 0\n",
    "\n",
    "if n <= 0:\n",
    "    print(\"Please enter a positive integer.\")\n",
    "elif n == 1:\n",
    "    print(\"Fibonacci sequence up to 1 term:\")\n",
    "    print(a)\n",
    "else:\n",
    "    print(\"Fibonacci sequence:\")\n",
    "    while c < n:\n",
    "        print(a, end=' ')\n",
    "        a, b = b, a + b\n",
    "        c += 1"
   ]
  },
  {
   "cell_type": "code",
   "execution_count": 23,
   "id": "92072846-f9fa-4aea-b244-6ac80dbf2a3c",
   "metadata": {},
   "outputs": [
    {
     "name": "stdin",
     "output_type": "stream",
     "text": [
      "enter the series: 12\n"
     ]
    },
    {
     "name": "stdout",
     "output_type": "stream",
     "text": [
      "Fibonacci Series\n",
      "0\n",
      "1\n",
      "1\n",
      "2\n",
      "3\n",
      "5\n",
      "8\n",
      "13\n",
      "21\n",
      "34\n",
      "55\n",
      "89\n"
     ]
    }
   ],
   "source": [
    "n=int(input(\"enter the series:\"))\n",
    "\n",
    "a,b = 0,1\n",
    "c=0\n",
    "\n",
    "if n<=0:\n",
    "    print(\"please enter a positive number.\")\n",
    "elif n==1:\n",
    "    print(\"sequence upto 1 term:\")\n",
    "    print(a)\n",
    "else:\n",
    "    print(\"Fibonacci Series\")\n",
    "    while c<n:\n",
    "        print(a)\n",
    "        a,b=b,a+b\n",
    "        c+=1\n"
   ]
  },
  {
   "cell_type": "code",
   "execution_count": 37,
   "id": "983f2c30-e2f6-46b9-b0e0-be7990bb203d",
   "metadata": {},
   "outputs": [
    {
     "name": "stdout",
     "output_type": "stream",
     "text": [
      "Minimum: 1\n",
      "Maximmum: 104\n"
     ]
    }
   ],
   "source": [
    "s=[1,5,3,88,4,6,72,104,58,20]\n",
    "k=s[0]\n",
    "l=s[0]\n",
    "\n",
    "for i in s:\n",
    "    if i < k:\n",
    "        k=i\n",
    "    if i > l:\n",
    "        l=i\n",
    "print(\"Minimum:\",k)\n",
    "print(\"Maximmum:\",l)\n",
    "        "
   ]
  },
  {
   "cell_type": "code",
   "execution_count": null,
   "id": "da97d2dd-20f4-4f00-b507-b4a83e22c861",
   "metadata": {},
   "outputs": [],
   "source": []
  }
 ],
 "metadata": {
  "kernelspec": {
   "display_name": "Python 3 (ipykernel)",
   "language": "python",
   "name": "python3"
  },
  "language_info": {
   "codemirror_mode": {
    "name": "ipython",
    "version": 3
   },
   "file_extension": ".py",
   "mimetype": "text/x-python",
   "name": "python",
   "nbconvert_exporter": "python",
   "pygments_lexer": "ipython3",
   "version": "3.12.7"
  }
 },
 "nbformat": 4,
 "nbformat_minor": 5
}
