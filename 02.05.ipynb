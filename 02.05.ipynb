{
 "cells": [
  {
   "cell_type": "markdown",
   "id": "516c0942-682f-4d6d-8f3a-f234ffc13ae0",
   "metadata": {},
   "source": [
    "# Inheritance\n"
   ]
  },
  {
   "cell_type": "code",
   "execution_count": 4,
   "id": "f7a09580-9b73-483c-b254-fbc46cca1883",
   "metadata": {},
   "outputs": [
    {
     "name": "stdout",
     "output_type": "stream",
     "text": [
      "Santhosh\n",
      "23\n"
     ]
    }
   ],
   "source": [
    "class parent1:\n",
    "    def __init__(self,name,age,dept):\n",
    "        self.name=name\n",
    "        self.age=age\n",
    "        self.dept=dept\n",
    "    def details(self):\n",
    "        print(self.name)\n",
    "\n",
    "class child(parent1):\n",
    "    def show(self):\n",
    "        print(self.age)\n",
    "\n",
    "p1=child(\"Santhosh\",23,\"cse\")\n",
    "p1.details()\n",
    "p1.show()"
   ]
  },
  {
   "cell_type": "code",
   "execution_count": 1,
   "id": "4bce3b9b-b9ca-44b6-844b-69265d016f22",
   "metadata": {},
   "outputs": [
    {
     "name": "stdout",
     "output_type": "stream",
     "text": [
      "hi hello\n",
      "how are u\n"
     ]
    }
   ],
   "source": [
    "class parent:\n",
    "    def hlo(self):\n",
    "        print(\"hi hello\")\n",
    "\n",
    "class child(parent):\n",
    "    def hi(self):\n",
    "        print(\"how are u\")\n",
    "\n",
    "\n",
    "\n",
    "p1=child()\n",
    "p1.hlo()\n",
    "p1.hi()"
   ]
  },
  {
   "cell_type": "code",
   "execution_count": 5,
   "id": "16ab66bf-1077-4170-bf17-81e124cd016b",
   "metadata": {},
   "outputs": [
    {
     "name": "stdin",
     "output_type": "stream",
     "text": [
      "enter your name santhosh\n",
      "enter your password hello\n"
     ]
    },
    {
     "name": "stdout",
     "output_type": "stream",
     "text": [
      "23\n",
      "santhosh\n"
     ]
    }
   ],
   "source": [
    "\n",
    "class parent1:\n",
    "    def __init__(self,name,age,dept):\n",
    "        self.name=name\n",
    "        self.age=age\n",
    "        self.dept=dept\n",
    "    def details(self):\n",
    "        print(self.name)\n",
    "\n",
    "\n",
    "class child1:\n",
    "    def show(self):\n",
    "        print(self.age)\n",
    "\n",
    "\n",
    "\n",
    "class child2:\n",
    "    def show2(self):\n",
    "        print(self.dept)\n",
    "\n",
    "\n",
    "\n",
    "class child3(parent1,child1,child2):\n",
    "    def show1(self):\n",
    "        print(self.dept)\n",
    "\n",
    "name=input(\"enter your name\")\n",
    "password=input(\"enter your password\")\n",
    "if name==\"santhosh\" and password==\"hello\":\n",
    "    p1=child3(\"santhosh\",23,\"cse\")\n",
    "    p1.show()\n",
    "    p1.details()\n",
    "else:\n",
    "    print(\"wrong password\")"
   ]
  },
  {
   "cell_type": "code",
   "execution_count": null,
   "id": "adc7e3a1-8619-40e5-bb47-090337447c4b",
   "metadata": {},
   "outputs": [],
   "source": []
  }
 ],
 "metadata": {
  "kernelspec": {
   "display_name": "Python 3 (ipykernel)",
   "language": "python",
   "name": "python3"
  },
  "language_info": {
   "codemirror_mode": {
    "name": "ipython",
    "version": 3
   },
   "file_extension": ".py",
   "mimetype": "text/x-python",
   "name": "python",
   "nbconvert_exporter": "python",
   "pygments_lexer": "ipython3",
   "version": "3.12.7"
  }
 },
 "nbformat": 4,
 "nbformat_minor": 5
}
