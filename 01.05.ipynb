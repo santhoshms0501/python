{
 "cells": [
  {
   "cell_type": "code",
   "execution_count": 7,
   "id": "eb647e3e-21ef-41f7-aa83-73315c2b22fa",
   "metadata": {},
   "outputs": [
    {
     "name": "stdout",
     "output_type": "stream",
     "text": [
      "9\n"
     ]
    }
   ],
   "source": [
    "class calculation:\n",
    "    def add(self):\n",
    "        a=4\n",
    "        b=5\n",
    "        print(a+b)\n",
    "    def sub(self):\n",
    "        a=90\n",
    "        b=4\n",
    "        print(a-b)\n",
    "\n",
    "obj1=calculation()\n",
    "obj1.add()"
   ]
  },
  {
   "cell_type": "code",
   "execution_count": 28,
   "id": "036edc7c-69ac-46bb-9a72-61891ae332c7",
   "metadata": {},
   "outputs": [
    {
     "name": "stdin",
     "output_type": "stream",
     "text": [
      "enter the number 20\n",
      "enter the number 14\n",
      "enter the number 30\n"
     ]
    },
    {
     "name": "stdout",
     "output_type": "stream",
     "text": [
      "50\n",
      "6\n"
     ]
    }
   ],
   "source": [
    "input1=int(input(\"enter the number\"))\n",
    "input2=int(input(\"enter the number\"))\n",
    "input3=int(input(\"enter the number\"))\n",
    "\n",
    "a=input1\n",
    "b=input2\n",
    "c=input3\n",
    "\n",
    "def add():\n",
    "    print(a+c)\n",
    "def sub():\n",
    "    print(a-b)\n",
    "\n",
    "add()\n",
    "sub()"
   ]
  },
  {
   "cell_type": "markdown",
   "id": "13580102-252b-473c-83f8-f1f23a2f5ec5",
   "metadata": {},
   "source": [
    "# init"
   ]
  },
  {
   "cell_type": "code",
   "execution_count": 26,
   "id": "34461fb7-4c51-466c-8e18-eade3841886b",
   "metadata": {},
   "outputs": [
    {
     "name": "stdin",
     "output_type": "stream",
     "text": [
      "enter the number 45\n",
      "enter the number 55\n",
      "enter the number 65\n"
     ]
    },
    {
     "name": "stdout",
     "output_type": "stream",
     "text": [
      "100\n",
      "10\n"
     ]
    }
   ],
   "source": [
    "class myobject():\n",
    "    def __init__(self,a,b,c):\n",
    "        self.a1=a\n",
    "        self.b1=b\n",
    "        self.c1=c\n",
    "\n",
    "    def add(self):\n",
    "        print(self.a1+self.b1)\n",
    "\n",
    "    def sub(self):\n",
    "        print(self.c1-self.b1)\n",
    "a1=int(input(\"enter the number\"))\n",
    "b1=int(input(\"enter the number\"))\n",
    "c1=int(input(\"enter the number\"))\n",
    "\n",
    "clg=myobject(a1,b1,c1)\n",
    "clg.add()\n",
    "clg.sub()"
   ]
  },
  {
   "cell_type": "code",
   "execution_count": 9,
   "id": "df2c069e-0ee1-417c-b4cb-12465d2874fc",
   "metadata": {},
   "outputs": [
    {
     "name": "stdout",
     "output_type": "stream",
     "text": [
      "Jack,(32),(CSE)\n"
     ]
    }
   ],
   "source": [
    "class student:\n",
    "    def __init__(self,name,age,dept):\n",
    "        self.name=name\n",
    "        self.age=age\n",
    "        self.dept=dept\n",
    "\n",
    "    def __str__(self):\n",
    "        return f\"{self.name},({self.age}),({self.dept})\"\n",
    "\n",
    "c1 = student(\"Jack\",32,\"CSE\")\n",
    "print(c1)"
   ]
  },
  {
   "cell_type": "code",
   "execution_count": null,
   "id": "79b91765-f062-4e6b-a769-4f16fa8b45ce",
   "metadata": {},
   "outputs": [],
   "source": []
  }
 ],
 "metadata": {
  "kernelspec": {
   "display_name": "Python 3 (ipykernel)",
   "language": "python",
   "name": "python3"
  },
  "language_info": {
   "codemirror_mode": {
    "name": "ipython",
    "version": 3
   },
   "file_extension": ".py",
   "mimetype": "text/x-python",
   "name": "python",
   "nbconvert_exporter": "python",
   "pygments_lexer": "ipython3",
   "version": "3.12.7"
  }
 },
 "nbformat": 4,
 "nbformat_minor": 5
}
