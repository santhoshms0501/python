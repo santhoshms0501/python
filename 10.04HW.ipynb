{
 "cells": [
  {
   "cell_type": "code",
   "execution_count": 1,
   "id": "eb29329c-3778-4b5b-a82d-d09f4a5e8d14",
   "metadata": {},
   "outputs": [
    {
     "name": "stdout",
     "output_type": "stream",
     "text": [
      "11\n"
     ]
    }
   ],
   "source": [
    "print(10|3)\n",
    "#value 0f 10 - 1010\n",
    "#value of 3 - 0011\n",
    "# output will be - 1011(11)"
   ]
  },
  {
   "cell_type": "code",
   "execution_count": 9,
   "id": "33a1b6e6-e93c-4b0c-96df-afe3d04b8a7d",
   "metadata": {},
   "outputs": [
    {
     "name": "stdout",
     "output_type": "stream",
     "text": [
      "7\n"
     ]
    }
   ],
   "source": [
    "print(5^2)\n",
    "\n",
    "#value of 5 - 0101\n",
    "#value of 2 - 0010\n",
    "#output will be - 0111(7) \n",
    "#explanation : if both binaries are same(00,11), it will be 0"
   ]
  },
  {
   "cell_type": "code",
   "execution_count": 11,
   "id": "da18f5ec-dd5f-4031-8451-322442acbf26",
   "metadata": {},
   "outputs": [
    {
     "name": "stdout",
     "output_type": "stream",
     "text": [
      "-4\n"
     ]
    }
   ],
   "source": [
    "print(~3)\n",
    "#this operator inverts 0 into 1 and 1 into 0\n",
    "#value 0f 3 - 000000011 t0 111111100"
   ]
  },
  {
   "cell_type": "code",
   "execution_count": 17,
   "id": "bac51826-b1f7-4fcd-a372-f5a4f8297569",
   "metadata": {},
   "outputs": [
    {
     "name": "stdout",
     "output_type": "stream",
     "text": [
      "-19\n",
      "-11\n",
      "-6\n"
     ]
    }
   ],
   "source": [
    "print(~18)\n",
    "print(~10)\n",
    "print(~5)"
   ]
  },
  {
   "cell_type": "code",
   "execution_count": 19,
   "id": "26ae7276-6ac0-4d1a-9b4a-42fb62db944c",
   "metadata": {},
   "outputs": [
    {
     "name": "stdout",
     "output_type": "stream",
     "text": [
      "0\n"
     ]
    }
   ],
   "source": [
    "print(4>>3)"
   ]
  },
  {
   "cell_type": "code",
   "execution_count": 33,
   "id": "b2b318dd-a9b6-4f79-9570-f5bf16bb6ca1",
   "metadata": {},
   "outputs": [
    {
     "name": "stdout",
     "output_type": "stream",
     "text": [
      "2\n"
     ]
    }
   ],
   "source": [
    "print(8>>2)"
   ]
  },
  {
   "cell_type": "code",
   "execution_count": 39,
   "id": "a0b73fcc-bf66-47aa-a276-0747d337cdb7",
   "metadata": {},
   "outputs": [
    {
     "name": "stdout",
     "output_type": "stream",
     "text": [
      "16\n"
     ]
    }
   ],
   "source": [
    "print(2<<3)"
   ]
  },
  {
   "cell_type": "code",
   "execution_count": null,
   "id": "3ffeccf6-1614-49ae-a830-e98c2f5cbb98",
   "metadata": {},
   "outputs": [],
   "source": []
  },
  {
   "cell_type": "code",
   "execution_count": null,
   "id": "832728ef-5364-4aec-a467-4c6bcf117e68",
   "metadata": {},
   "outputs": [],
   "source": []
  }
 ],
 "metadata": {
  "kernelspec": {
   "display_name": "Python 3 (ipykernel)",
   "language": "python",
   "name": "python3"
  },
  "language_info": {
   "codemirror_mode": {
    "name": "ipython",
    "version": 3
   },
   "file_extension": ".py",
   "mimetype": "text/x-python",
   "name": "python",
   "nbconvert_exporter": "python",
   "pygments_lexer": "ipython3",
   "version": "3.12.7"
  }
 },
 "nbformat": 4,
 "nbformat_minor": 5
}
