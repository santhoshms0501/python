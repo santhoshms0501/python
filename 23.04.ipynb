{
 "cells": [
  {
   "cell_type": "code",
   "execution_count": 1,
   "id": "705125e6-f817-4c88-b87a-2894b1de2db0",
   "metadata": {},
   "outputs": [
    {
     "name": "stdout",
     "output_type": "stream",
     "text": [
      "Error\n"
     ]
    }
   ],
   "source": [
    "#try and except\n",
    "\n",
    "try:\n",
    "    a=1\n",
    "    b=0\n",
    "    print(a/b)\n",
    "\n",
    "except:\n",
    "    print(\"Error\")"
   ]
  },
  {
   "cell_type": "code",
   "execution_count": 5,
   "id": "dbd721a4-2c04-479a-acb5-8da414014c0f",
   "metadata": {},
   "outputs": [
    {
     "name": "stdout",
     "output_type": "stream",
     "text": [
      "type error\n"
     ]
    }
   ],
   "source": [
    "try:\n",
    "    a=1\n",
    "    b=\"o\"\n",
    "    print(a-b)\n",
    "except NameError:\n",
    "    print(\"name error\")\n",
    "except ZeroDivisionError:\n",
    "    print(\"zero division error\")\n",
    "except TypeError:\n",
    "    print(\"type error\")"
   ]
  },
  {
   "cell_type": "code",
   "execution_count": 22,
   "id": "d24d7897-5c35-4a0d-b385-aa0336241f77",
   "metadata": {},
   "outputs": [
    {
     "name": "stdout",
     "output_type": "stream",
     "text": [
      "unsupported operand type(s) for +: 'int' and 'str'\n"
     ]
    }
   ],
   "source": [
    "try:\n",
    "    a=3\n",
    "    b=\"hi\"\n",
    "    print(a+b)\n",
    "except Exception as e:\n",
    "    print(e)"
   ]
  },
  {
   "cell_type": "code",
   "execution_count": 36,
   "id": "0a281ae9-9085-4e13-90ce-9b8a574f13b1",
   "metadata": {},
   "outputs": [
    {
     "name": "stdout",
     "output_type": "stream",
     "text": [
      "name 'c' is not defined\n",
      "completed\n"
     ]
    }
   ],
   "source": [
    "try:\n",
    "    a=1\n",
    "    b=\"hello\"\n",
    "    print(c)\n",
    "except Exception as e:\n",
    "    print(e)\n",
    "finally:\n",
    "    print(\"completed\")"
   ]
  },
  {
   "cell_type": "code",
   "execution_count": null,
   "id": "9cc75910-f4cd-4fc0-ab47-2b87439ea570",
   "metadata": {},
   "outputs": [],
   "source": [
    "\n",
    "try:\n",
    "    num = int(input(\"Enter a number: \"))\n",
    "    result = 10 / num\n",
    "    print(\"Result:\", result)\n",
    "except ValueError:\n",
    "    print(\"Error: Invalid input\")\n",
    "except ZeroDivisionError:\n",
    "    print(\"Error: Cannot divide by zero\")\n",
    "finally:\n",
    "    print(\"Execution completed (Success or Failure)\")  # Runs no matter what\n",
    "\n"
   ]
  },
  {
   "cell_type": "code",
   "execution_count": 13,
   "id": "c17dbd73-5ed1-4975-bdd7-aa9dd391dcee",
   "metadata": {},
   "outputs": [
    {
     "name": "stdout",
     "output_type": "stream",
     "text": [
      "Error: Invalid type\n",
      "Completed\n"
     ]
    }
   ],
   "source": [
    "try:\n",
    "    a=45\n",
    "    b=\"hi\"\n",
    "    print(a+b)\n",
    "except NameError:\n",
    "    print(\"Name error:\")\n",
    "except ValueError:\n",
    "    print(\"Error: Invalid input\")\n",
    "except ZeroDivisionError:\n",
    "    print(\"Error: Cannot divide by zero\")\n",
    "except TypeError:\n",
    "    print(\"Error: Invalid type\")\n",
    "finally:\n",
    "    print(\"Completed\")"
   ]
  },
  {
   "cell_type": "code",
   "execution_count": null,
   "id": "7fac890f-ff54-4fdc-b359-f55d8f363d22",
   "metadata": {},
   "outputs": [],
   "source": []
  }
 ],
 "metadata": {
  "kernelspec": {
   "display_name": "Python 3 (ipykernel)",
   "language": "python",
   "name": "python3"
  },
  "language_info": {
   "codemirror_mode": {
    "name": "ipython",
    "version": 3
   },
   "file_extension": ".py",
   "mimetype": "text/x-python",
   "name": "python",
   "nbconvert_exporter": "python",
   "pygments_lexer": "ipython3",
   "version": "3.12.7"
  }
 },
 "nbformat": 4,
 "nbformat_minor": 5
}
