{
 "cells": [
  {
   "cell_type": "code",
   "execution_count": 25,
   "id": "1ec21c0b-884e-4507-ad62-e635c70de948",
   "metadata": {},
   "outputs": [
    {
     "data": {
      "text/plain": [
       "(1, 32, 5, 870, 90, 67, 349)"
      ]
     },
     "execution_count": 25,
     "metadata": {},
     "output_type": "execute_result"
    }
   ],
   "source": [
    "k=(1,32,5,870,90)\n",
    "k1=(67,349)\n",
    "k=tuple(list(k)+list(k1))\n",
    "k"
   ]
  },
  {
   "cell_type": "code",
   "execution_count": 29,
   "id": "9708f730-d4b9-421a-a225-f9f453a4df52",
   "metadata": {},
   "outputs": [
    {
     "name": "stdout",
     "output_type": "stream",
     "text": [
      "[1, 3, 4, 67, 89]\n"
     ]
    }
   ],
   "source": [
    "k=[1,3,4,78,89]\n",
    "k.remove(78)\n",
    "k.insert(3,67)\n",
    "print(k)"
   ]
  },
  {
   "cell_type": "code",
   "execution_count": 33,
   "id": "346867eb-cd0f-4796-81df-c3c313b4e528",
   "metadata": {},
   "outputs": [
    {
     "name": "stdout",
     "output_type": "stream",
     "text": [
      "{1, 'kiwi', 'banana', 'apple'}\n"
     ]
    }
   ],
   "source": [
    "myset={\"apple\",\"banana\",\"kiwi\"}\n",
    "myset.add(1)\n",
    "print(myset)"
   ]
  },
  {
   "cell_type": "code",
   "execution_count": 1,
   "id": "31591153-7ce9-438a-bb8a-a2102d15fdd7",
   "metadata": {},
   "outputs": [
    {
     "name": "stdout",
     "output_type": "stream",
     "text": [
      "('a', 'b', 'c', 1, 2, 3, 4, 5)\n"
     ]
    }
   ],
   "source": [
    "t1=(\"a\",\"b\",\"c\")\n",
    "t2=(1,2,3,4,5)\n",
    "\n",
    "t3=(t1+t2)\n",
    "print(t3)"
   ]
  },
  {
   "cell_type": "code",
   "execution_count": 3,
   "id": "83b0c8b5-bd36-4ebf-a169-4cbcc59318ef",
   "metadata": {},
   "outputs": [
    {
     "data": {
      "text/plain": [
       "(1, 2, 3, 4, 5, 6, 7, 8, 9, 'hi')"
      ]
     },
     "execution_count": 3,
     "metadata": {},
     "output_type": "execute_result"
    }
   ],
   "source": [
    "mytuple=(1,2,3,4,5,6,7,8,9)\n",
    "list1=list(mytuple)\n",
    "list1.append(\"hi\")\n",
    "mytuple=tuple(list1)\n",
    "mytuple"
   ]
  },
  {
   "cell_type": "code",
   "execution_count": 5,
   "id": "829c3bb8-6226-4ae3-ad0d-f216cbdc5367",
   "metadata": {},
   "outputs": [
    {
     "name": "stdout",
     "output_type": "stream",
     "text": [
      "apple\n",
      "['banana', 'kiwi']\n",
      "orange\n",
      "mango\n"
     ]
    }
   ],
   "source": [
    "veg=(\"apple\",\"banana\",\"kiwi\",\"orange\",\"mango\")\n",
    "\n",
    "(green,*tropic,yellow,red)=veg\n",
    "\n",
    "print(green)\n",
    "print(tropic)\n",
    "print(yellow)\n",
    "print(red)"
   ]
  },
  {
   "cell_type": "code",
   "execution_count": 19,
   "id": "a9ce9fe9-0c05-4a5d-aa13-8515674d0d94",
   "metadata": {},
   "outputs": [
    {
     "data": {
      "text/plain": [
       "{'apple', 'banana', 'cherry', 'grapes', 'kiwi', 'pineapple'}"
      ]
     },
     "execution_count": 19,
     "metadata": {},
     "output_type": "execute_result"
    }
   ],
   "source": [
    "myset1 = {\"apple\", \"banana\", \"cherry\"}\n",
    "myset2 = {\"kiwi\", \"pineapple\", \"grapes\"}\n",
    "\n",
    "myset1.update(myset2)\n",
    "myset1"
   ]
  },
  {
   "cell_type": "code",
   "execution_count": 21,
   "id": "43c09ae2-6bf0-4fd3-ba2d-0a4099248d10",
   "metadata": {},
   "outputs": [
    {
     "data": {
      "text/plain": [
       "{'banana', 'mango'}"
      ]
     },
     "execution_count": 21,
     "metadata": {},
     "output_type": "execute_result"
    }
   ],
   "source": [
    "myset={\"mango\",\"banana\",\"kiwi\"}\n",
    "myset.remove(\"kiwi\")\n",
    "myset"
   ]
  },
  {
   "cell_type": "code",
   "execution_count": 29,
   "id": "ff2e47b2-6011-4227-a4eb-f41ecec2def9",
   "metadata": {},
   "outputs": [
    {
     "name": "stdout",
     "output_type": "stream",
     "text": [
      "{1, 'welcome', 5.0, 6.3, 'hello', 8}\n"
     ]
    }
   ],
   "source": [
    "myset={0,1,5.0,6.3,\"hello\",8,\"welcome\"}\n",
    "\n",
    "myset.discard(0)\n",
    "print(myset)"
   ]
  },
  {
   "cell_type": "code",
   "execution_count": null,
   "id": "97ab60c6-49f7-4b41-ba02-9789ab4650f0",
   "metadata": {},
   "outputs": [],
   "source": []
  }
 ],
 "metadata": {
  "kernelspec": {
   "display_name": "Python 3 (ipykernel)",
   "language": "python",
   "name": "python3"
  },
  "language_info": {
   "codemirror_mode": {
    "name": "ipython",
    "version": 3
   },
   "file_extension": ".py",
   "mimetype": "text/x-python",
   "name": "python",
   "nbconvert_exporter": "python",
   "pygments_lexer": "ipython3",
   "version": "3.12.7"
  }
 },
 "nbformat": 4,
 "nbformat_minor": 5
}
