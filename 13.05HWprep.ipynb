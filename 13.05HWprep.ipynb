{
 "cells": [
  {
   "cell_type": "code",
   "execution_count": 1,
   "id": "1bfa2ff3-844c-4713-91cd-35cb22f0718e",
   "metadata": {},
   "outputs": [
    {
     "name": "stdin",
     "output_type": "stream",
     "text": [
      "Enter the Number: 23\n"
     ]
    },
    {
     "name": "stdout",
     "output_type": "stream",
     "text": [
      "23 is a Prime Number\n"
     ]
    }
   ],
   "source": [
    "#prime number using function\n",
    "\n",
    "def prime(a):\n",
    "    if a<=1:\n",
    "        return False\n",
    "    for i in range(2,a):\n",
    "        if a%i == 0:\n",
    "            return False\n",
    "    return True\n",
    "\n",
    "b = int(input(\"Enter the Number:\"))\n",
    "\n",
    "if prime(b):\n",
    "    print(f\"{b} is a Prime Number\")\n",
    "else:\n",
    "    print(f\"{b} is not a Prime Number\")"
   ]
  },
  {
   "cell_type": "code",
   "execution_count": 3,
   "id": "4c10e988-aac1-4013-821a-449af68d1c25",
   "metadata": {},
   "outputs": [
    {
     "name": "stdout",
     "output_type": "stream",
     "text": [
      "Ascending order: [1, 4, 5, 6, 15, 21, 23, 32, 67, 134]\n"
     ]
    }
   ],
   "source": [
    "#ascending order using nested for loop\n",
    "\n",
    "l= [1,32,4,6,21,5,15,23,67,134]\n",
    "\n",
    "for i in range(len(l)):\n",
    "    for j in range(len(l)):\n",
    "        if l[i] < l[j]:\n",
    "            l[i],l[j] = l[j],l[i]\n",
    "\n",
    "print(\"Ascending order:\",l)"
   ]
  },
  {
   "cell_type": "code",
   "execution_count": 5,
   "id": "030c0bef-fa6f-420c-9377-cd584992b110",
   "metadata": {},
   "outputs": [
    {
     "name": "stdout",
     "output_type": "stream",
     "text": [
      "Descending order: [134, 67, 32, 23, 21, 15, 6, 5, 4, 1]\n"
     ]
    }
   ],
   "source": [
    "#descending order using nested for loop\n",
    "\n",
    "for i in range(len(l)):\n",
    "    for j in range(len(l)):\n",
    "        if l[i] > l[j]:\n",
    "            l[i],l[j] = l[j],l[i]\n",
    "\n",
    "print(\"Descending order:\",l)"
   ]
  },
  {
   "cell_type": "code",
   "execution_count": 7,
   "id": "d7a806b9-4046-4285-ae48-87e74b861441",
   "metadata": {},
   "outputs": [
    {
     "name": "stdout",
     "output_type": "stream",
     "text": [
      "second largest: 67\n",
      "second smallest: 4\n"
     ]
    }
   ],
   "source": [
    "#second largest & second smallest\n",
    "\n",
    "for i in range(len(l)):\n",
    "    for j in range(len(l)):\n",
    "        if l[i] > l[j]:\n",
    "            l[i],l[j] = l[j],l[i]\n",
    "\n",
    "print(\"second largest:\",l[1])\n",
    "print(\"second smallest:\",l[-2])"
   ]
  },
  {
   "cell_type": "code",
   "execution_count": 11,
   "id": "1f216caa-ed6e-4f0a-9c02-f83ccd423854",
   "metadata": {},
   "outputs": [
    {
     "data": {
      "text/plain": [
       "[1, 2, 3, 4, 5, 6, 12]"
      ]
     },
     "execution_count": 11,
     "metadata": {},
     "output_type": "execute_result"
    }
   ],
   "source": [
    "#remove duplicates from the list using function\n",
    "\n",
    "k=[1,2,3,4,5,6,3,12,2,5,4]\n",
    "\n",
    "def remove_dupli(k):\n",
    "    l=[]\n",
    "    for i in k:\n",
    "        if i not in l:\n",
    "            l.append(i)\n",
    "\n",
    "    return l\n",
    "\n",
    "remove_dupli(k)"
   ]
  },
  {
   "cell_type": "code",
   "execution_count": 33,
   "id": "d89c6ff8-7e5d-47c4-b7b6-13ac305e14eb",
   "metadata": {},
   "outputs": [
    {
     "name": "stdin",
     "output_type": "stream",
     "text": [
      "Enter the value: level\n"
     ]
    },
    {
     "name": "stdout",
     "output_type": "stream",
     "text": [
      "palindrome\n"
     ]
    }
   ],
   "source": [
    "#palindrome \n",
    "\n",
    "n=str(input(\"Enter the value:\"))\n",
    "\n",
    "if n == n[::-1]:\n",
    "    print(\"palindrome\")\n",
    "else:\n",
    "    print(\"not palindrome\")\n"
   ]
  },
  {
   "cell_type": "code",
   "execution_count": null,
   "id": "50cf9814-bb8e-4e4d-a04d-8e107a446f23",
   "metadata": {},
   "outputs": [],
   "source": []
  }
 ],
 "metadata": {
  "kernelspec": {
   "display_name": "Python 3 (ipykernel)",
   "language": "python",
   "name": "python3"
  },
  "language_info": {
   "codemirror_mode": {
    "name": "ipython",
    "version": 3
   },
   "file_extension": ".py",
   "mimetype": "text/x-python",
   "name": "python",
   "nbconvert_exporter": "python",
   "pygments_lexer": "ipython3",
   "version": "3.12.7"
  }
 },
 "nbformat": 4,
 "nbformat_minor": 5
}
