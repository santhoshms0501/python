{
 "cells": [
  {
   "cell_type": "code",
   "execution_count": 3,
   "id": "12896da2-fe7e-4801-9807-b6f9916f8dbe",
   "metadata": {},
   "outputs": [
    {
     "data": {
      "text/plain": [
       "{0, 1, 22, 3, 4, 5, 6.3, 90, 'apple', 'banana', 'cherry', 'kiwi', 'mango'}"
      ]
     },
     "execution_count": 3,
     "metadata": {},
     "output_type": "execute_result"
    }
   ],
   "source": [
    "myset1={\"apple\",\"banana\",\"cherry\"}\n",
    "myset2={\"kiwi\",5,90,6.3,5,22,4,22,3,1,True,0,\"mango\"}\n",
    "\n",
    "myset3=myset1.union(myset2)\n",
    "myset3"
   ]
  },
  {
   "cell_type": "code",
   "execution_count": 7,
   "id": "81d83ba0-70c2-4804-b517-fe4746fbc703",
   "metadata": {},
   "outputs": [
    {
     "data": {
      "text/plain": [
       "{1, 2, 3, 'hello', 'hi', 'welcome'}"
      ]
     },
     "execution_count": 7,
     "metadata": {},
     "output_type": "execute_result"
    }
   ],
   "source": [
    "set1={1,2,3}\n",
    "set2={\"hi\",\"hello\",\"welcome\"}\n",
    "\n",
    "set3=set1|set2\n",
    "set3"
   ]
  },
  {
   "cell_type": "code",
   "execution_count": 9,
   "id": "75025cc7-3f61-489b-8627-a4089db16e19",
   "metadata": {},
   "outputs": [
    {
     "name": "stdout",
     "output_type": "stream",
     "text": [
      "{'John', 1, 2, 3, 'a', 'bananas', 'b', 'Elena', 'c', 'apple', 'cherry'}\n"
     ]
    }
   ],
   "source": [
    "set1 = {\"a\", \"b\", \"c\"}\n",
    "set2 = {1, 2, 3}\n",
    "set3 = {\"John\", \"Elena\",3}\n",
    "set4 = {\"apple\", \"bananas\", \"cherry\"}\n",
    "\n",
    "myset = set1.union(set2, set3, set4)\n",
    "print(myset)"
   ]
  },
  {
   "cell_type": "code",
   "execution_count": 11,
   "id": "4e062b7c-dfa7-48d4-9db1-e984a015f229",
   "metadata": {},
   "outputs": [
    {
     "data": {
      "text/plain": [
       "{1, 2, 3, 'Elena', 'John', 'a', 'apple', 'b', 'bananas', 'c', 'cherry'}"
      ]
     },
     "execution_count": 11,
     "metadata": {},
     "output_type": "execute_result"
    }
   ],
   "source": [
    "set1 = {\"a\", \"b\", \"c\"}\n",
    "set2 = {1, 2, 3}\n",
    "set3 = {\"John\", \"Elena\",3}\n",
    "set4 = {\"apple\", \"bananas\", \"cherry\"}\n",
    "\n",
    "myset=set1|set2|set3|set4\n",
    "myset"
   ]
  },
  {
   "cell_type": "code",
   "execution_count": 13,
   "id": "25ee7afb-35bd-409e-ad66-c2855c4fdc62",
   "metadata": {},
   "outputs": [
    {
     "name": "stdout",
     "output_type": "stream",
     "text": [
      "{1, 'b', 2, 3, 'a', 'c'}\n"
     ]
    }
   ],
   "source": [
    "set1 = {\"a\", \"b\" , \"c\"}\n",
    "set2 = {1, 2, 3}\n",
    "\n",
    "set1.update(set2)\n",
    "print(set1)"
   ]
  },
  {
   "cell_type": "code",
   "execution_count": 15,
   "id": "bb0187d9-9de1-4b59-9cdf-38ad79d2dec2",
   "metadata": {},
   "outputs": [
    {
     "data": {
      "text/plain": [
       "{'apple'}"
      ]
     },
     "execution_count": 15,
     "metadata": {},
     "output_type": "execute_result"
    }
   ],
   "source": [
    "set1={\"apple\",\"mango\",\"grapes\"}\n",
    "set2={\"google\",\"microsoft\",\"apple\"}\n",
    "\n",
    "set3=set1.intersection(set2)\n",
    "set3"
   ]
  },
  {
   "cell_type": "code",
   "execution_count": 17,
   "id": "0b0dc1b2-2345-4174-a270-f6c00aaf1beb",
   "metadata": {},
   "outputs": [
    {
     "data": {
      "text/plain": [
       "{4, 5, 6}"
      ]
     },
     "execution_count": 17,
     "metadata": {},
     "output_type": "execute_result"
    }
   ],
   "source": [
    "set1={1,2,3,4,5,6}\n",
    "set2={4,5,6,7,8,9}\n",
    "\n",
    "set3=set1 & set2\n",
    "set3"
   ]
  },
  {
   "cell_type": "code",
   "execution_count": 19,
   "id": "20d2655a-573a-4bad-8f16-1725f9c5ab35",
   "metadata": {},
   "outputs": [
    {
     "name": "stdout",
     "output_type": "stream",
     "text": [
      "{False, 1, 'apple'}\n"
     ]
    }
   ],
   "source": [
    "set1 = {\"apple\", 1,  \"banana\", 0, \"cherry\"}\n",
    "set2 = {False, \"google\", 1, \"apple\", 2, True}\n",
    "\n",
    "set3 = set1.intersection(set2)\n",
    "\n",
    "print(set3)"
   ]
  },
  {
   "cell_type": "code",
   "execution_count": 21,
   "id": "c0a45b94-34d0-459c-8417-8c00f58a19a3",
   "metadata": {},
   "outputs": [
    {
     "name": "stdout",
     "output_type": "stream",
     "text": [
      "{'banana', 'cherry'}\n"
     ]
    }
   ],
   "source": [
    "set1 = {\"apple\", \"banana\", \"cherry\"}\n",
    "set2 = {\"google\", \"microsoft\", \"apple\"}\n",
    "\n",
    "set3 = set1.difference(set2)\n",
    "\n",
    "print(set3)"
   ]
  },
  {
   "cell_type": "code",
   "execution_count": 37,
   "id": "4660555d-6589-4ab0-9dc9-c6089ca6754e",
   "metadata": {},
   "outputs": [
    {
     "data": {
      "text/plain": [
       "{'banana', 'cherry', 'google', 'microsoft'}"
      ]
     },
     "execution_count": 37,
     "metadata": {},
     "output_type": "execute_result"
    }
   ],
   "source": [
    "set4=set1.symmetric_difference(set2)\n",
    "set4"
   ]
  },
  {
   "cell_type": "code",
   "execution_count": null,
   "id": "d98ba0f0-df57-4ea9-a093-9333840956bb",
   "metadata": {},
   "outputs": [],
   "source": []
  }
 ],
 "metadata": {
  "kernelspec": {
   "display_name": "Python 3 (ipykernel)",
   "language": "python",
   "name": "python3"
  },
  "language_info": {
   "codemirror_mode": {
    "name": "ipython",
    "version": 3
   },
   "file_extension": ".py",
   "mimetype": "text/x-python",
   "name": "python",
   "nbconvert_exporter": "python",
   "pygments_lexer": "ipython3",
   "version": "3.12.7"
  }
 },
 "nbformat": 4,
 "nbformat_minor": 5
}
