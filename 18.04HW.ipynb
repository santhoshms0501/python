{
 "cells": [
  {
   "cell_type": "code",
   "execution_count": 7,
   "id": "3fc3ac14-a3c6-49e3-b217-86bc65e534aa",
   "metadata": {},
   "outputs": [
    {
     "data": {
      "text/plain": [
       "[1, 22, 3, 44, 55, 6, '4', 11, 1200]"
      ]
     },
     "execution_count": 7,
     "metadata": {},
     "output_type": "execute_result"
    }
   ],
   "source": [
    "l=[1,22,3,44,55,6,11,1200]\n",
    "l.insert(6,\"4\")\n",
    "l"
   ]
  },
  {
   "cell_type": "code",
   "execution_count": 9,
   "id": "cc9100b8-bd18-4aad-9e5a-a7e3eeabbcaf",
   "metadata": {},
   "outputs": [
    {
     "data": {
      "text/plain": [
       "[1, 22, 3, 55, 6, '4', 11, 1200]"
      ]
     },
     "execution_count": 9,
     "metadata": {},
     "output_type": "execute_result"
    }
   ],
   "source": [
    "l.pop(3)\n",
    "l"
   ]
  },
  {
   "cell_type": "code",
   "execution_count": 11,
   "id": "b57ba22f-5904-4926-8f21-d82b2941a15e",
   "metadata": {},
   "outputs": [
    {
     "data": {
      "text/plain": [
       "[1, 22, 3, 55, 6, '4', 11, 1200, 88]"
      ]
     },
     "execution_count": 11,
     "metadata": {},
     "output_type": "execute_result"
    }
   ],
   "source": [
    "l.append(88)\n",
    "l"
   ]
  },
  {
   "cell_type": "code",
   "execution_count": 25,
   "id": "32bcf581-70bc-44ea-b4c2-17ce976b9ac8",
   "metadata": {},
   "outputs": [
    {
     "data": {
      "text/plain": [
       "[1, 22, 55, 6, 4, 11, 1200, 88]"
      ]
     },
     "execution_count": 25,
     "metadata": {},
     "output_type": "execute_result"
    }
   ],
   "source": [
    "l=[1,22,3,55,6,4,11,1200,88]\n",
    "l.pop(2)\n",
    "l"
   ]
  },
  {
   "cell_type": "code",
   "execution_count": 27,
   "id": "6ff1f119-dd7d-4715-8670-b9921fc03ca4",
   "metadata": {},
   "outputs": [
    {
     "data": {
      "text/plain": [
       "[1, 22, 55, 6, 4, 11, 1200, 88, 1, 2, 3, 546]"
      ]
     },
     "execution_count": 27,
     "metadata": {},
     "output_type": "execute_result"
    }
   ],
   "source": [
    "m = [1, 2, 3, 546]\n",
    "l.extend(m)\n",
    "l"
   ]
  },
  {
   "cell_type": "code",
   "execution_count": 23,
   "id": "81d4c16b-608c-4ecd-a1c4-0606905a674b",
   "metadata": {},
   "outputs": [
    {
     "name": "stdout",
     "output_type": "stream",
     "text": [
      "HelloWpythonorld\n"
     ]
    }
   ],
   "source": [
    "s=\"HelloWorld\"\n",
    "s1=\"python\"\n",
    "\n",
    "s2=s[:6]+s1+s[6:]\n",
    "print(s2)"
   ]
  },
  {
   "cell_type": "code",
   "execution_count": 47,
   "id": "d33f1f50-768d-4fe5-a730-e2dd558ae3b4",
   "metadata": {},
   "outputs": [
    {
     "name": "stdout",
     "output_type": "stream",
     "text": [
      "Hello\n"
     ]
    }
   ],
   "source": [
    "s=\"HelloWorld\"\n",
    "\n",
    "print(s[0:5])"
   ]
  },
  {
   "cell_type": "code",
   "execution_count": 49,
   "id": "7c84c9be-5da7-4a6c-b72f-532199a8c4b6",
   "metadata": {},
   "outputs": [
    {
     "name": "stdout",
     "output_type": "stream",
     "text": [
      "HelloWorld 2024\n"
     ]
    }
   ],
   "source": [
    "s=\"HelloWorld\"\n",
    "print(s,\"2024\")"
   ]
  },
  {
   "cell_type": "code",
   "execution_count": 51,
   "id": "d5ed769d-7c21-4967-b5e8-23ad546fffeb",
   "metadata": {},
   "outputs": [
    {
     "name": "stdout",
     "output_type": "stream",
     "text": [
      "HeloWorld\n"
     ]
    }
   ],
   "source": [
    "s = \"HelloWorld\"\n",
    "s1 = s[:2] + s[3:]\n",
    "print(s1)"
   ]
  },
  {
   "cell_type": "code",
   "execution_count": 53,
   "id": "6510a850-7082-434d-ac9d-d472172893f9",
   "metadata": {},
   "outputs": [
    {
     "name": "stdout",
     "output_type": "stream",
     "text": [
      "HelloWorldprogramming\n"
     ]
    }
   ],
   "source": [
    "s=\"HelloWorld\"\n",
    "t=\"programming\"\n",
    "s1=s+t\n",
    "print(s1)"
   ]
  },
  {
   "cell_type": "code",
   "execution_count": 25,
   "id": "e4872cc9-3d89-47c6-98be-9ed3e4aa793f",
   "metadata": {},
   "outputs": [
    {
     "name": "stdin",
     "output_type": "stream",
     "text": [
      "enter the word tenet\n"
     ]
    },
    {
     "name": "stdout",
     "output_type": "stream",
     "text": [
      "True\n"
     ]
    }
   ],
   "source": [
    "s=str(input(\"enter the word\"))\n",
    "if s == s[::-1]:\n",
    "    print(\"True\")\n",
    "else:\n",
    "    print(\"False\")"
   ]
  },
  {
   "cell_type": "code",
   "execution_count": 47,
   "id": "ac643b8d-c3a6-4217-8caf-773318d31ccd",
   "metadata": {},
   "outputs": [
    {
     "name": "stdout",
     "output_type": "stream",
     "text": [
      "It is Anagram\n"
     ]
    }
   ],
   "source": [
    "s1 = \"listen\"\n",
    "s2 = \"silent\"\n",
    "\n",
    "if (sorted(s1) == sorted(s2)):\n",
    "    print(\"It is Anagram\")\n",
    "else:\n",
    "    print(\"It is Not Anagram\") "
   ]
  },
  {
   "cell_type": "code",
   "execution_count": 81,
   "id": "b5a27434-0102-4b25-8dac-d65e9989d54d",
   "metadata": {},
   "outputs": [
    {
     "name": "stdout",
     "output_type": "stream",
     "text": [
      "Hello World\n"
     ]
    }
   ],
   "source": [
    "s=\"hello world\"\n",
    "\n",
    "print(s.title())"
   ]
  },
  {
   "cell_type": "code",
   "execution_count": null,
   "id": "c73e9b04-c8c8-48d5-8b6f-aa25fa0b2505",
   "metadata": {},
   "outputs": [],
   "source": []
  }
 ],
 "metadata": {
  "kernelspec": {
   "display_name": "Python 3 (ipykernel)",
   "language": "python",
   "name": "python3"
  },
  "language_info": {
   "codemirror_mode": {
    "name": "ipython",
    "version": 3
   },
   "file_extension": ".py",
   "mimetype": "text/x-python",
   "name": "python",
   "nbconvert_exporter": "python",
   "pygments_lexer": "ipython3",
   "version": "3.12.7"
  }
 },
 "nbformat": 4,
 "nbformat_minor": 5
}
