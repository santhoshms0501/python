{
 "cells": [
  {
   "cell_type": "code",
   "execution_count": 1,
   "id": "50a9dca7-0637-401b-b1b0-8c30e6179cd6",
   "metadata": {},
   "outputs": [
    {
     "name": "stdout",
     "output_type": "stream",
     "text": [
      "Welcome To My Team\n"
     ]
    }
   ],
   "source": [
    "k=\"welcome to my team\"\n",
    "k1=k.title()\n",
    "print(k1)"
   ]
  },
  {
   "cell_type": "code",
   "execution_count": 3,
   "id": "7d15f527-9d71-4b66-a9b0-701d0e37dd77",
   "metadata": {},
   "outputs": [
    {
     "name": "stdout",
     "output_type": "stream",
     "text": [
      "('I am an ', 'computer', ' science student')\n"
     ]
    }
   ],
   "source": [
    "k=\"I am an computer science student\"\n",
    "k1=k.partition(\"computer\")\n",
    "print(k1)"
   ]
  },
  {
   "cell_type": "code",
   "execution_count": 5,
   "id": "ebf0f051-83a7-48b5-9a49-50f85b410170",
   "metadata": {},
   "outputs": [
    {
     "name": "stdout",
     "output_type": "stream",
     "text": [
      "00000Hello\n",
      "welcome to my world\n"
     ]
    }
   ],
   "source": [
    "a=\"Hello\"\n",
    "b=\"welcome to my world\"\n",
    "print(a.zfill(10))\n",
    "print(b.zfill(10))"
   ]
  },
  {
   "cell_type": "code",
   "execution_count": 9,
   "id": "c00ac47a-dae2-4d2c-ae31-1affba12a9fe",
   "metadata": {},
   "outputs": [
    {
     "name": "stdout",
     "output_type": "stream",
     "text": [
      "15\n"
     ]
    }
   ],
   "source": [
    "k=\"welcome to my world\"\n",
    "k1=k.rfind(\"o\")\n",
    "print(k1)"
   ]
  },
  {
   "cell_type": "code",
   "execution_count": 11,
   "id": "e97ea1cf-2518-4dce-9ce5-a36be44cb279",
   "metadata": {},
   "outputs": [
    {
     "name": "stdout",
     "output_type": "stream",
     "text": [
      "['apple', 'orange', 'mango']\n"
     ]
    }
   ],
   "source": [
    "k=\"apple, orange, mango\"\n",
    "k1=k.rsplit(\", \")\n",
    "print(k1)"
   ]
  },
  {
   "cell_type": "code",
   "execution_count": null,
   "id": "5347b2aa-fdeb-4d2b-9402-7dbacfcbe1c0",
   "metadata": {},
   "outputs": [],
   "source": []
  }
 ],
 "metadata": {
  "kernelspec": {
   "display_name": "Python 3 (ipykernel)",
   "language": "python",
   "name": "python3"
  },
  "language_info": {
   "codemirror_mode": {
    "name": "ipython",
    "version": 3
   },
   "file_extension": ".py",
   "mimetype": "text/x-python",
   "name": "python",
   "nbconvert_exporter": "python",
   "pygments_lexer": "ipython3",
   "version": "3.12.7"
  }
 },
 "nbformat": 4,
 "nbformat_minor": 5
}
