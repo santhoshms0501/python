{
 "cells": [
  {
   "cell_type": "code",
   "execution_count": 3,
   "id": "26d0e74b-ba13-4d63-9d08-3eeec939184f",
   "metadata": {},
   "outputs": [
    {
     "name": "stdout",
     "output_type": "stream",
     "text": [
      "[1, 2, 3, 4]\n"
     ]
    }
   ],
   "source": [
    "#remove duplicates\n",
    "\n",
    "\n",
    "l=[1,2,3,4,4,2,1,3,4]\n",
    "k=[]\n",
    "\n",
    "for i in l:\n",
    "    if i not in k:\n",
    "        k.append(i)\n",
    "\n",
    "print(k)"
   ]
  },
  {
   "cell_type": "code",
   "execution_count": 13,
   "id": "710a7e64-90f7-4c4d-b55e-44394602f5b7",
   "metadata": {},
   "outputs": [
    {
     "name": "stdin",
     "output_type": "stream",
     "text": [
      "Enter your words: I am an data science student\n"
     ]
    },
    {
     "name": "stdout",
     "output_type": "stream",
     "text": [
      "Vowels: 10\n",
      "Consonants: 13\n"
     ]
    }
   ],
   "source": [
    "def vowels_consonants(text):\n",
    "    vowels = \"aeiouAEIOU\"\n",
    "    vowel_count = 0\n",
    "    consonant_count = 0\n",
    "\n",
    "    for char in text:\n",
    "        if char.isalpha():  # check if it's a letter\n",
    "            if char in vowels:\n",
    "                vowel_count += 1\n",
    "            else:\n",
    "                consonant_count += 1\n",
    "\n",
    "    print(\"Vowels:\", vowel_count)\n",
    "    print(\"Consonants:\", consonant_count)\n",
    "\n",
    "# Example usage\n",
    "vowels_consonants(input(\"Enter your words:\"))\n"
   ]
  },
  {
   "cell_type": "code",
   "execution_count": 15,
   "id": "eae013c2-3f63-48e8-9e69-c02e7ae8bbc5",
   "metadata": {},
   "outputs": [
    {
     "name": "stdout",
     "output_type": "stream",
     "text": [
      "Merged List: [5, 2, 9, 1, 7, 3]\n",
      "Sorted List: [1, 2, 3, 5, 7, 9]\n"
     ]
    }
   ],
   "source": [
    "l1 = [5, 2, 9]\n",
    "l2 = [1, 7, 3]\n",
    "\n",
    "merged_list = l1 + l2\n",
    "sorted_list = sorted(merged_list)\n",
    "\n",
    "print(\"Merged List:\", merged_list)\n",
    "print(\"Sorted List:\", sorted_list)\n"
   ]
  },
  {
   "cell_type": "code",
   "execution_count": 19,
   "id": "62ab844c-4427-482d-a899-b84b33887404",
   "metadata": {},
   "outputs": [
    {
     "name": "stdout",
     "output_type": "stream",
     "text": [
      "Sum of Digits: 26\n"
     ]
    }
   ],
   "source": [
    "def sum_of_digits(number):\n",
    "    return sum(int(digit) for digit in str(number))\n",
    "\n",
    "# Example usage\n",
    "num = 236492\n",
    "print(\"Sum of Digits:\", sum_of_digits(num))\n"
   ]
  },
  {
   "cell_type": "code",
   "execution_count": 21,
   "id": "2a1a9fc5-1687-43b9-b8a3-e0f10e8a610a",
   "metadata": {},
   "outputs": [
    {
     "name": "stdin",
     "output_type": "stream",
     "text": [
      "Enter the range: 20\n"
     ]
    },
    {
     "name": "stdout",
     "output_type": "stream",
     "text": [
      "odd\n",
      "Even\n",
      "odd\n",
      "Even\n",
      "odd\n",
      "Even\n",
      "odd\n",
      "Even\n",
      "odd\n",
      "Even\n",
      "odd\n",
      "Even\n",
      "odd\n",
      "Even\n",
      "odd\n",
      "Even\n",
      "odd\n",
      "Even\n",
      "odd\n"
     ]
    }
   ],
   "source": [
    "a=int(input(\"Enter the range:\"))\n",
    "\n",
    "for i in range(1,a):\n",
    "    if i % 2 == 0:\n",
    "        print(\"Even\")\n",
    "    else:\n",
    "        print(\"odd\")"
   ]
  },
  {
   "cell_type": "code",
   "execution_count": null,
   "id": "d1e56c95-941f-49fe-a190-47d17324c388",
   "metadata": {},
   "outputs": [],
   "source": []
  }
 ],
 "metadata": {
  "kernelspec": {
   "display_name": "Python 3 (ipykernel)",
   "language": "python",
   "name": "python3"
  },
  "language_info": {
   "codemirror_mode": {
    "name": "ipython",
    "version": 3
   },
   "file_extension": ".py",
   "mimetype": "text/x-python",
   "name": "python",
   "nbconvert_exporter": "python",
   "pygments_lexer": "ipython3",
   "version": "3.12.7"
  }
 },
 "nbformat": 4,
 "nbformat_minor": 5
}
