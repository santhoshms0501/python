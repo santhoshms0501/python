{
 "cells": [
  {
   "cell_type": "code",
   "execution_count": 1,
   "id": "0d2d3109-8e01-49d9-8a21-52e008a78b67",
   "metadata": {},
   "outputs": [
    {
     "name": "stdout",
     "output_type": "stream",
     "text": [
      "<class 'int'>\n"
     ]
    }
   ],
   "source": [
    "k=10\n",
    "print(type(k))"
   ]
  },
  {
   "cell_type": "code",
   "execution_count": 3,
   "id": "5a26de5d-f592-4c01-aaf4-e57029f83feb",
   "metadata": {},
   "outputs": [
    {
     "name": "stdout",
     "output_type": "stream",
     "text": [
      "<class 'float'>\n"
     ]
    }
   ],
   "source": [
    "k=10.5\n",
    "print(type(k))"
   ]
  },
  {
   "cell_type": "code",
   "execution_count": 5,
   "id": "bba27f47-e4f8-460d-bc56-4a03e47405ee",
   "metadata": {},
   "outputs": [
    {
     "name": "stdout",
     "output_type": "stream",
     "text": [
      "<class 'str'>\n"
     ]
    }
   ],
   "source": [
    "k='hi'\n",
    "print(type(k))"
   ]
  },
  {
   "cell_type": "code",
   "execution_count": 7,
   "id": "7132893f-5cd1-400a-9623-6e0b7bf4c554",
   "metadata": {},
   "outputs": [
    {
     "name": "stdout",
     "output_type": "stream",
     "text": [
      "<class 'complex'>\n"
     ]
    }
   ],
   "source": [
    "k=1+2j\n",
    "print(type(k))"
   ]
  },
  {
   "cell_type": "code",
   "execution_count": 9,
   "id": "5309eedc-35ff-40fa-be87-c07835581f3c",
   "metadata": {},
   "outputs": [
    {
     "name": "stdout",
     "output_type": "stream",
     "text": [
      "5\n"
     ]
    }
   ],
   "source": [
    "k=int(5.1)\n",
    "print(k)\n"
   ]
  },
  {
   "cell_type": "code",
   "execution_count": 11,
   "id": "8b58c084-e44d-4117-b526-6bd0864832e8",
   "metadata": {},
   "outputs": [
    {
     "data": {
      "text/plain": [
       "2.0"
      ]
     },
     "execution_count": 11,
     "metadata": {},
     "output_type": "execute_result"
    }
   ],
   "source": [
    "k=float(2)\n",
    "k"
   ]
  },
  {
   "cell_type": "code",
   "execution_count": 13,
   "id": "60af5b0d-317f-40b9-b60e-a011828fc1ce",
   "metadata": {},
   "outputs": [
    {
     "data": {
      "text/plain": [
       "(5+0j)"
      ]
     },
     "execution_count": 13,
     "metadata": {},
     "output_type": "execute_result"
    }
   ],
   "source": [
    "k=complex(5)\n",
    "k"
   ]
  },
  {
   "cell_type": "code",
   "execution_count": 15,
   "id": "0ecbb311-105c-4236-bd8a-adaa434c93ae",
   "metadata": {},
   "outputs": [
    {
     "name": "stdout",
     "output_type": "stream",
     "text": [
      "10\n"
     ]
    }
   ],
   "source": [
    "k=str(10)\n",
    "print(k)"
   ]
  },
  {
   "cell_type": "code",
   "execution_count": 21,
   "id": "24bd0a58-5102-4222-b518-414d411b2503",
   "metadata": {},
   "outputs": [
    {
     "name": "stdout",
     "output_type": "stream",
     "text": [
      "1.0\n",
      "246.0\n"
     ]
    }
   ],
   "source": [
    "k=1+246j\n",
    "print(k.real)\n",
    "print(k.imag)"
   ]
  },
  {
   "cell_type": "code",
   "execution_count": 23,
   "id": "eacbc402-6ca8-4abf-8b8b-eec1f6d06c2d",
   "metadata": {},
   "outputs": [
    {
     "name": "stdout",
     "output_type": "stream",
     "text": [
      "4.5\n",
      "4\n",
      "(4.5+0j)\n"
     ]
    }
   ],
   "source": [
    "k=4.5\n",
    "k1=str(k)\n",
    "k2=int(k)\n",
    "k3=complex(k)\n",
    "print(k1)\n",
    "print(k2)\n",
    "print(k3)"
   ]
  },
  {
   "cell_type": "code",
   "execution_count": 33,
   "id": "9e0e6a70-0868-4866-94f7-fb5429c6c24c",
   "metadata": {},
   "outputs": [
    {
     "name": "stdin",
     "output_type": "stream",
     "text": [
      "Enter the number 6.5\n"
     ]
    },
    {
     "name": "stdout",
     "output_type": "stream",
     "text": [
      "<class 'float'>\n"
     ]
    }
   ],
   "source": [
    "k=float(input(\"Enter the number\"))\n",
    "print(type(k))"
   ]
  },
  {
   "cell_type": "code",
   "execution_count": 37,
   "id": "b136385c-a2fb-407c-a204-6b46f11b6718",
   "metadata": {},
   "outputs": [
    {
     "name": "stdout",
     "output_type": "stream",
     "text": [
      "d\n"
     ]
    }
   ],
   "source": [
    "k=\"Good Morning\"\n",
    "print(k[3])"
   ]
  },
  {
   "cell_type": "code",
   "execution_count": 39,
   "id": "33ebf48f-d35b-446e-8b6c-636c07f1cdb0",
   "metadata": {},
   "outputs": [
    {
     "name": "stdout",
     "output_type": "stream",
     "text": [
      "Good M\n"
     ]
    }
   ],
   "source": [
    "k=\"Good Morning\"\n",
    "print(k[0:6])"
   ]
  },
  {
   "cell_type": "code",
   "execution_count": 41,
   "id": "b9ae7a02-a9ed-4614-9b1e-6290028e8d9b",
   "metadata": {},
   "outputs": [
    {
     "name": "stdout",
     "output_type": "stream",
     "text": [
      "Mornin\n"
     ]
    }
   ],
   "source": [
    "k=\"Good Morning\"\n",
    "print(k[-7:-1])"
   ]
  },
  {
   "cell_type": "code",
   "execution_count": 45,
   "id": "dec54053-b471-402d-b20e-147f7bbbc138",
   "metadata": {},
   "outputs": [
    {
     "name": "stdin",
     "output_type": "stream",
     "text": [
      " 2\n",
      " 3\n",
      " 4\n"
     ]
    },
    {
     "name": "stdout",
     "output_type": "stream",
     "text": [
      "2.6666666666666665\n"
     ]
    }
   ],
   "source": [
    "a=int(input())\n",
    "b=int(input())\n",
    "c=int(input())\n",
    "d=a*b*c\n",
    "e=a+b+c\n",
    "f=d/e\n",
    "print(f)"
   ]
  },
  {
   "cell_type": "code",
   "execution_count": 47,
   "id": "054af1f5-4dd4-46c7-81d9-7799e104521e",
   "metadata": {},
   "outputs": [
    {
     "name": "stdin",
     "output_type": "stream",
     "text": [
      " Santhosh\n",
      " 85\n",
      " Computer\n"
     ]
    },
    {
     "name": "stdout",
     "output_type": "stream",
     "text": [
      "My name is Santhosh\n",
      "My score is 8.5 /10\n",
      "My department is Computer\n"
     ]
    }
   ],
   "source": [
    "name=input()\n",
    "score=int(input())\n",
    "department=input()\n",
    "print(\"My name is\",name)\n",
    "print(\"My score is\",score/10,\"/10\")\n",
    "print(\"My department is\",department)"
   ]
  },
  {
   "cell_type": "code",
   "execution_count": null,
   "id": "6131c58e-dee7-4287-814e-77830cfb1c35",
   "metadata": {},
   "outputs": [],
   "source": []
  }
 ],
 "metadata": {
  "kernelspec": {
   "display_name": "Python 3 (ipykernel)",
   "language": "python",
   "name": "python3"
  },
  "language_info": {
   "codemirror_mode": {
    "name": "ipython",
    "version": 3
   },
   "file_extension": ".py",
   "mimetype": "text/x-python",
   "name": "python",
   "nbconvert_exporter": "python",
   "pygments_lexer": "ipython3",
   "version": "3.12.7"
  }
 },
 "nbformat": 4,
 "nbformat_minor": 5
}
