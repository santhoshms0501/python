{
 "cells": [
  {
   "cell_type": "code",
   "execution_count": 22,
   "id": "27ef25b0-32a8-4480-b397-1a8c86132b96",
   "metadata": {},
   "outputs": [
    {
     "name": "stdout",
     "output_type": "stream",
     "text": [
      "Ascending order: [1, 2, 3, 4, 5, 6, 77, 85, 86]\n"
     ]
    }
   ],
   "source": [
    "#Ascending order\n",
    "\n",
    "f=[1,3,5,4,2,6,77,86,85]\n",
    "\n",
    "for i in range(len(f)):\n",
    "    for j in range(len(f)):\n",
    "        if f[i] < f[j]:\n",
    "            f[i],f[j] = f[j],f[i]\n",
    "\n",
    "print(\"Ascending order:\",f)"
   ]
  },
  {
   "cell_type": "code",
   "execution_count": 4,
   "id": "a4cdba2e-38f7-43bd-953f-35ada30f0a51",
   "metadata": {},
   "outputs": [
    {
     "name": "stdout",
     "output_type": "stream",
     "text": [
      "[86, 85, 77, 6, 5, 4, 3, 2, 1]\n"
     ]
    }
   ],
   "source": [
    "#Descending order\n",
    "\n",
    "f=[1,3,5,4,2,6,77,86,85]\n",
    "\n",
    "for i in range(len(f)):\n",
    "    for j in range(len(f)):\n",
    "        if f[i] > f[j]:\n",
    "            f[i],f[j] = f[j],f[i]\n",
    "\n",
    "print(\"Descending order:\"\",f)"
   ]
  },
  {
   "cell_type": "code",
   "execution_count": 8,
   "id": "e5743c7a-b0f1-43da-a248-d79457834c60",
   "metadata": {},
   "outputs": [
    {
     "name": "stdout",
     "output_type": "stream",
     "text": [
      "[1, 2, 3, 4, 5, 6, 77, 85, 86]\n",
      "Minimum -  1\n",
      "Maximum -  86\n"
     ]
    }
   ],
   "source": [
    "#Minimum and Maximum\n",
    "\n",
    "f=[1,3,5,4,2,6,77,86,85]\n",
    "\n",
    "for i in range(len(f)):\n",
    "    for j in range(len(f)):\n",
    "        if f[i] < f[j]:\n",
    "            f[i],f[j] = f[j],f[i]\n",
    "\n",
    "print(f)\n",
    "print(\"Minimum - \",f[0])\n",
    "print(\"Maximum - \",f[-1])"
   ]
  },
  {
   "cell_type": "code",
   "execution_count": 18,
   "id": "9fe9c1a6-a5f7-40f5-bad3-51be09f674a5",
   "metadata": {},
   "outputs": [
    {
     "name": "stdout",
     "output_type": "stream",
     "text": [
      "[1, 3, 4, 55, 69, 89, 94, 475]\n",
      "Second largest: 94\n",
      "Second smallest: 3\n"
     ]
    }
   ],
   "source": [
    "l = [1,3,4,475,69,55,89,94]\n",
    "\n",
    "for i in range(len(l)):\n",
    "    for j in range(len(l)):\n",
    "        if l[i] < l[j]:\n",
    "            l[i],l[j] = l[j],l[i]\n",
    "\n",
    "print(l)\n",
    "print(\"Second largest:\",l[-2])\n",
    "print(\"Second smallest:\",l[1])"
   ]
  },
  {
   "cell_type": "code",
   "execution_count": null,
   "id": "aaace6c8-ced8-40ef-a8b9-eff7d403001a",
   "metadata": {},
   "outputs": [],
   "source": []
  }
 ],
 "metadata": {
  "kernelspec": {
   "display_name": "Python 3 (ipykernel)",
   "language": "python",
   "name": "python3"
  },
  "language_info": {
   "codemirror_mode": {
    "name": "ipython",
    "version": 3
   },
   "file_extension": ".py",
   "mimetype": "text/x-python",
   "name": "python",
   "nbconvert_exporter": "python",
   "pygments_lexer": "ipython3",
   "version": "3.12.7"
  }
 },
 "nbformat": 4,
 "nbformat_minor": 5
}
