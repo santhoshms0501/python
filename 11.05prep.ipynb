{
 "cells": [
  {
   "cell_type": "code",
   "execution_count": 9,
   "id": "2653db88-1b3d-43b9-a5cb-856a8adf4a05",
   "metadata": {},
   "outputs": [
    {
     "name": "stdout",
     "output_type": "stream",
     "text": [
      "{'w': 1, 'h': 1, 'o': 1} {'h': 1, 'o': 1, 'w': 1}\n",
      "Anagram\n"
     ]
    }
   ],
   "source": [
    "def is_anagram(str1,str2):\n",
    "    if count_char(str1) == count_char(str2):\n",
    "        print(count_char(str1),count_char(str2))\n",
    "        return True\n",
    "    return False\n",
    "\n",
    "def count_char(s):\n",
    "    d={}\n",
    "    for i in s:\n",
    "        if i in d:\n",
    "            d[i] += 1\n",
    "        else:\n",
    "            d[i] = 1\n",
    "    return d\n",
    "\n",
    "if is_anagram(\"who\",\"how\"):\n",
    "    print(\"Anagram\")\n",
    "else:\n",
    "    print(\"Not Anagram\")"
   ]
  },
  {
   "cell_type": "code",
   "execution_count": 1,
   "id": "4a78b0cf-48bb-4c6f-908a-b072a28a94f0",
   "metadata": {},
   "outputs": [
    {
     "name": "stdin",
     "output_type": "stream",
     "text": [
      "Enter the number: 47\n"
     ]
    },
    {
     "name": "stdout",
     "output_type": "stream",
     "text": [
      "prime\n"
     ]
    }
   ],
   "source": [
    "def is_prime(n):\n",
    "    out=False\n",
    "    if n<=1:\n",
    "        print(\"not prime\")\n",
    "    else:\n",
    "        for i in range(2,n):\n",
    "            if n%i == 0:\n",
    "                print(n%i)\n",
    "                out = True\n",
    "                break\n",
    "\n",
    "        if out:\n",
    "            print(\"not prime\")\n",
    "        else:\n",
    "            print(\"prime\")\n",
    "\n",
    "n = int(input(\"Enter the number:\"))\n",
    "is_prime(n)"
   ]
  },
  {
   "cell_type": "code",
   "execution_count": 27,
   "id": "88768820-c149-44a5-ba58-c272fe472365",
   "metadata": {},
   "outputs": [
    {
     "data": {
      "image/png": "[encoded data removed]",
      "text/plain": [
       "<Figure size 640x480 with 1 Axes>"
      ]
     },
     "metadata": {},
     "output_type": "display_data"
    }
   ],
   "source": [
    "import matplotlib.pyplot as plt\n",
    "import numpy as np\n",
    "\n",
    "ypoints = np.array([2,17,3,16,12,36])\n",
    "\n",
    "plt.plot(ypoints, marker = '*')\n",
    "plt.show()"
   ]
  },
  {
   "cell_type": "code",
   "execution_count": 15,
   "id": "bc8b2b40-8721-41db-94ed-dca5372ec633",
   "metadata": {},
   "outputs": [
    {
     "name": "stdout",
     "output_type": "stream",
     "text": [
      "1 x 7 = 7\n",
      "2 x 7 = 14\n",
      "3 x 7 = 21\n",
      "4 x 7 = 28\n",
      "5 x 7 = 35\n",
      "6 x 7 = 42\n",
      "7 x 7 = 49\n",
      "8 x 7 = 56\n",
      "9 x 7 = 63\n",
      "10 x 7 = 70\n",
      "11 x 7 = 77\n",
      "12 x 7 = 84\n",
      "13 x 7 = 91\n",
      "14 x 7 = 98\n",
      "15 x 7 = 105\n"
     ]
    }
   ],
   "source": [
    "def multiply_table(n):\n",
    "\n",
    "    i=1\n",
    "    while i<=15:\n",
    "        print(i,\"x\",n,\"=\",n*i)\n",
    "        i+=1\n",
    "\n",
    "multiply_table(7)"
   ]
  },
  {
   "cell_type": "code",
   "execution_count": 21,
   "id": "06b7a6f2-b413-4185-9ff4-3cd3af6a890a",
   "metadata": {},
   "outputs": [
    {
     "name": "stdin",
     "output_type": "stream",
     "text": [
      "Enter the Year: 2024\n"
     ]
    },
    {
     "name": "stdout",
     "output_type": "stream",
     "text": [
      "Leap Year\n"
     ]
    }
   ],
   "source": [
    "year = int(input(\"Enter the Year:\"))\n",
    "\n",
    "if (year%400 == 0) or (year%4 == 0 and year%100!=0):\n",
    "    print(\"Leap Year\")\n",
    "\n",
    "else:\n",
    "    print(\"Not a Leap Year\")"
   ]
  },
  {
   "cell_type": "code",
   "execution_count": null,
   "id": "fa70094e-b6f7-4dda-96b6-6d5021ac7101",
   "metadata": {},
   "outputs": [],
   "source": []
  }
 ],
 "metadata": {
  "kernelspec": {
   "display_name": "Python 3 (ipykernel)",
   "language": "python",
   "name": "python3"
  },
  "language_info": {
   "codemirror_mode": {
    "name": "ipython",
    "version": 3
   },
   "file_extension": ".py",
   "mimetype": "text/x-python",
   "name": "python",
   "nbconvert_exporter": "python",
   "pygments_lexer": "ipython3",
   "version": "3.12.7"
  }
 },
 "nbformat": 4,
 "nbformat_minor": 5
}
