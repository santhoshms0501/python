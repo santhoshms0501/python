{
 "cells": [
  {
   "cell_type": "code",
   "execution_count": 1,
   "id": "c6d61821-81f1-446f-af0d-71d3a5a215f9",
   "metadata": {},
   "outputs": [
    {
     "data": {
      "text/html": [
       "<div>\n",
       "<style scoped>\n",
       "    .dataframe tbody tr th:only-of-type {\n",
       "        vertical-align: middle;\n",
       "    }\n",
       "\n",
       "    .dataframe tbody tr th {\n",
       "        vertical-align: top;\n",
       "    }\n",
       "\n",
       "    .dataframe thead th {\n",
       "        text-align: right;\n",
       "    }\n",
       "</style>\n",
       "<table border=\"1\" class=\"dataframe\">\n",
       "  <thead>\n",
       "    <tr style=\"text-align: right;\">\n",
       "      <th></th>\n",
       "      <th>Student ID</th>\n",
       "      <th>Name</th>\n",
       "      <th>Tamil</th>\n",
       "      <th>English</th>\n",
       "      <th>Maths</th>\n",
       "      <th>Science</th>\n",
       "      <th>Social Science</th>\n",
       "      <th>Total</th>\n",
       "      <th>Grade</th>\n",
       "    </tr>\n",
       "  </thead>\n",
       "  <tbody>\n",
       "    <tr>\n",
       "      <th>0</th>\n",
       "      <td>1</td>\n",
       "      <td>Raghavan</td>\n",
       "      <td>98</td>\n",
       "      <td>96</td>\n",
       "      <td>99</td>\n",
       "      <td>97</td>\n",
       "      <td>95</td>\n",
       "      <td>485</td>\n",
       "      <td>A</td>\n",
       "    </tr>\n",
       "    <tr>\n",
       "      <th>1</th>\n",
       "      <td>2</td>\n",
       "      <td>Mythili</td>\n",
       "      <td>97</td>\n",
       "      <td>99</td>\n",
       "      <td>95</td>\n",
       "      <td>98</td>\n",
       "      <td>96</td>\n",
       "      <td>485</td>\n",
       "      <td>A</td>\n",
       "    </tr>\n",
       "    <tr>\n",
       "      <th>2</th>\n",
       "      <td>3</td>\n",
       "      <td>Sridhar</td>\n",
       "      <td>96</td>\n",
       "      <td>95</td>\n",
       "      <td>98</td>\n",
       "      <td>99</td>\n",
       "      <td>97</td>\n",
       "      <td>485</td>\n",
       "      <td>A</td>\n",
       "    </tr>\n",
       "    <tr>\n",
       "      <th>3</th>\n",
       "      <td>4</td>\n",
       "      <td>Janani</td>\n",
       "      <td>99</td>\n",
       "      <td>97</td>\n",
       "      <td>96</td>\n",
       "      <td>95</td>\n",
       "      <td>98</td>\n",
       "      <td>485</td>\n",
       "      <td>A</td>\n",
       "    </tr>\n",
       "    <tr>\n",
       "      <th>4</th>\n",
       "      <td>5</td>\n",
       "      <td>Kannan</td>\n",
       "      <td>95</td>\n",
       "      <td>98</td>\n",
       "      <td>97</td>\n",
       "      <td>96</td>\n",
       "      <td>99</td>\n",
       "      <td>485</td>\n",
       "      <td>A</td>\n",
       "    </tr>\n",
       "    <tr>\n",
       "      <th>...</th>\n",
       "      <td>...</td>\n",
       "      <td>...</td>\n",
       "      <td>...</td>\n",
       "      <td>...</td>\n",
       "      <td>...</td>\n",
       "      <td>...</td>\n",
       "      <td>...</td>\n",
       "      <td>...</td>\n",
       "      <td>...</td>\n",
       "    </tr>\n",
       "    <tr>\n",
       "      <th>95</th>\n",
       "      <td>96</td>\n",
       "      <td>Thenral</td>\n",
       "      <td>45</td>\n",
       "      <td>65</td>\n",
       "      <td>72</td>\n",
       "      <td>55</td>\n",
       "      <td>70</td>\n",
       "      <td>307</td>\n",
       "      <td>D</td>\n",
       "    </tr>\n",
       "    <tr>\n",
       "      <th>96</th>\n",
       "      <td>97</td>\n",
       "      <td>Surya</td>\n",
       "      <td>62</td>\n",
       "      <td>70</td>\n",
       "      <td>55</td>\n",
       "      <td>68</td>\n",
       "      <td>48</td>\n",
       "      <td>303</td>\n",
       "      <td>D</td>\n",
       "    </tr>\n",
       "    <tr>\n",
       "      <th>97</th>\n",
       "      <td>98</td>\n",
       "      <td>Malar</td>\n",
       "      <td>72</td>\n",
       "      <td>52</td>\n",
       "      <td>68</td>\n",
       "      <td>62</td>\n",
       "      <td>55</td>\n",
       "      <td>309</td>\n",
       "      <td>D</td>\n",
       "    </tr>\n",
       "    <tr>\n",
       "      <th>98</th>\n",
       "      <td>99</td>\n",
       "      <td>Vivek</td>\n",
       "      <td>55</td>\n",
       "      <td>68</td>\n",
       "      <td>48</td>\n",
       "      <td>75</td>\n",
       "      <td>65</td>\n",
       "      <td>311</td>\n",
       "      <td>D</td>\n",
       "    </tr>\n",
       "    <tr>\n",
       "      <th>99</th>\n",
       "      <td>100</td>\n",
       "      <td>Poornima</td>\n",
       "      <td>68</td>\n",
       "      <td>48</td>\n",
       "      <td>70</td>\n",
       "      <td>52</td>\n",
       "      <td>75</td>\n",
       "      <td>313</td>\n",
       "      <td>D</td>\n",
       "    </tr>\n",
       "  </tbody>\n",
       "</table>\n",
       "<p>100 rows × 9 columns</p>\n",
       "</div>"
      ],
      "text/plain": [
       "    Student ID      Name  Tamil  English  Maths  Science  Social Science  \\\n",
       "0            1  Raghavan     98       96     99       97              95   \n",
       "1            2   Mythili     97       99     95       98              96   \n",
       "2            3   Sridhar     96       95     98       99              97   \n",
       "3            4    Janani     99       97     96       95              98   \n",
       "4            5    Kannan     95       98     97       96              99   \n",
       "..         ...       ...    ...      ...    ...      ...             ...   \n",
       "95          96   Thenral     45       65     72       55              70   \n",
       "96          97     Surya     62       70     55       68              48   \n",
       "97          98     Malar     72       52     68       62              55   \n",
       "98          99     Vivek     55       68     48       75              65   \n",
       "99         100  Poornima     68       48     70       52              75   \n",
       "\n",
       "    Total Grade  \n",
       "0     485     A  \n",
       "1     485     A  \n",
       "2     485     A  \n",
       "3     485     A  \n",
       "4     485     A  \n",
       "..    ...   ...  \n",
       "95    307     D  \n",
       "96    303     D  \n",
       "97    309     D  \n",
       "98    311     D  \n",
       "99    313     D  \n",
       "\n",
       "[100 rows x 9 columns]"
      ]
     },
     "execution_count": 1,
     "metadata": {},
     "output_type": "execute_result"
    }
   ],
   "source": [
    "import pandas as pd\n",
    "\n",
    "data = pd.read_csv(\"student_marks.csv\")\n",
    "data"
   ]
  },
  {
   "cell_type": "code",
   "execution_count": 3,
   "id": "f7cbb7d3-c8b2-4292-a2f8-4b8c5644f842",
   "metadata": {},
   "outputs": [
    {
     "name": "stdout",
     "output_type": "stream",
     "text": [
      "   Student ID      Name  Tamil  English  Maths  Science  Social Science  \\\n",
      "0           1  Raghavan     98       96     99       97              95   \n",
      "\n",
      "   Total Grade  \n",
      "0    485     A  \n"
     ]
    }
   ],
   "source": [
    "print(data.loc[[0]])"
   ]
  },
  {
   "cell_type": "code",
   "execution_count": 9,
   "id": "0ffee69b-63e4-4f7e-a2d5-4f20d12fd7a9",
   "metadata": {},
   "outputs": [
    {
     "name": "stdout",
     "output_type": "stream",
     "text": [
      "    Student ID            Name  Tamil  English  Maths  Science  \\\n",
      "2            3         Sridhar     96       95     98       99   \n",
      "64          65  Gopalakrishnan     76       80     86       94   \n",
      "\n",
      "    Social Science  Total Grade  \n",
      "2               97    485     A  \n",
      "64              79    415     C  \n"
     ]
    }
   ],
   "source": [
    "print(data.loc[[2,64]])"
   ]
  },
  {
   "cell_type": "code",
   "execution_count": 11,
   "id": "658fd7db-7d42-4765-8057-fd8be1740baf",
   "metadata": {},
   "outputs": [
    {
     "name": "stdout",
     "output_type": "stream",
     "text": [
      "   Student ID     Name  Tamil  English  Maths  Science  Social Science  Total  \\\n",
      "1           2  Mythili     97       99     95       98              96    485   \n",
      "\n",
      "  Grade  \n",
      "1     A  \n"
     ]
    }
   ],
   "source": [
    "print(data.iloc[[1]])"
   ]
  },
  {
   "cell_type": "code",
   "execution_count": 17,
   "id": "08381256-40ac-4413-a185-cb117334d9bd",
   "metadata": {},
   "outputs": [
    {
     "data": {
      "text/html": [
       "<div>\n",
       "<style scoped>\n",
       "    .dataframe tbody tr th:only-of-type {\n",
       "        vertical-align: middle;\n",
       "    }\n",
       "\n",
       "    .dataframe tbody tr th {\n",
       "        vertical-align: top;\n",
       "    }\n",
       "\n",
       "    .dataframe thead th {\n",
       "        text-align: right;\n",
       "    }\n",
       "</style>\n",
       "<table border=\"1\" class=\"dataframe\">\n",
       "  <thead>\n",
       "    <tr style=\"text-align: right;\">\n",
       "      <th></th>\n",
       "      <th>name</th>\n",
       "      <th>physics</th>\n",
       "      <th>chemistry</th>\n",
       "      <th>maths</th>\n",
       "    </tr>\n",
       "  </thead>\n",
       "  <tbody>\n",
       "    <tr>\n",
       "      <th>0</th>\n",
       "      <td>arun</td>\n",
       "      <td>87</td>\n",
       "      <td>85</td>\n",
       "      <td>90</td>\n",
       "    </tr>\n",
       "    <tr>\n",
       "      <th>1</th>\n",
       "      <td>bala</td>\n",
       "      <td>90</td>\n",
       "      <td>79</td>\n",
       "      <td>95</td>\n",
       "    </tr>\n",
       "    <tr>\n",
       "      <th>2</th>\n",
       "      <td>chandru</td>\n",
       "      <td>89</td>\n",
       "      <td>95</td>\n",
       "      <td>80</td>\n",
       "    </tr>\n",
       "  </tbody>\n",
       "</table>\n",
       "</div>"
      ],
      "text/plain": [
       "      name  physics  chemistry  maths\n",
       "0     arun       87         85     90\n",
       "1     bala       90         79     95\n",
       "2  chandru       89         95     80"
      ]
     },
     "execution_count": 17,
     "metadata": {},
     "output_type": "execute_result"
    }
   ],
   "source": [
    "import pandas as pd\n",
    "\n",
    "student = {\"name\":[\"arun\",\"bala\",\"chandru\"],\n",
    "           \"physics\":[87,90,89],\n",
    "           \"chemistry\":[85,79,95],\n",
    "           \"maths\":[90,95,80]}\n",
    "df = pd.DataFrame(student)\n",
    "df"
   ]
  },
  {
   "cell_type": "code",
   "execution_count": 21,
   "id": "f1fe8f69-efcb-4a25-81aa-e5d8b815d327",
   "metadata": {},
   "outputs": [
    {
     "name": "stdout",
     "output_type": "stream",
     "text": [
      "name         chandru\n",
      "physics           89\n",
      "chemistry         95\n",
      "maths             80\n",
      "Name: 2, dtype: object\n"
     ]
    }
   ],
   "source": [
    "print(df.loc[2])"
   ]
  },
  {
   "cell_type": "code",
   "execution_count": 23,
   "id": "ed8ab353-f884-4d65-9e7c-c1fc58ec909e",
   "metadata": {},
   "outputs": [
    {
     "data": {
      "text/plain": [
       "0    85\n",
       "1    79\n",
       "2    95\n",
       "Name: chemistry, dtype: int64"
      ]
     },
     "execution_count": 23,
     "metadata": {},
     "output_type": "execute_result"
    }
   ],
   "source": [
    "df[\"chemistry\"]"
   ]
  },
  {
   "cell_type": "code",
   "execution_count": 25,
   "id": "18e39dd8-20a3-4c92-b1aa-45e97f44f3fe",
   "metadata": {},
   "outputs": [
    {
     "name": "stdout",
     "output_type": "stream",
     "text": [
      "      Name  Age  Score\n",
      "a    Alice   25     85\n",
      "b      Bob   30     90\n",
      "c  Charlie   35     95\n"
     ]
    }
   ],
   "source": [
    "data = {'Name': ['Alice', 'Bob', 'Charlie'], \n",
    "        'Age': [25, 30, 35], \n",
    "        'Score': [85, 90, 95]}\n",
    "df = pd.DataFrame(data, index=['a', 'b', 'c'])\n",
    "print(df)\n"
   ]
  },
  {
   "cell_type": "code",
   "execution_count": null,
   "id": "45ed126d-0946-4f73-89a2-fa5cfe5f7843",
   "metadata": {},
   "outputs": [],
   "source": []
  }
 ],
 "metadata": {
  "kernelspec": {
   "display_name": "Python 3 (ipykernel)",
   "language": "python",
   "name": "python3"
  },
  "language_info": {
   "codemirror_mode": {
    "name": "ipython",
    "version": 3
   },
   "file_extension": ".py",
   "mimetype": "text/x-python",
   "name": "python",
   "nbconvert_exporter": "python",
   "pygments_lexer": "ipython3",
   "version": "3.12.7"
  }
 },
 "nbformat": 4,
 "nbformat_minor": 5
}
