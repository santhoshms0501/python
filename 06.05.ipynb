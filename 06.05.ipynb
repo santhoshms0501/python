{
 "cells": [
  {
   "cell_type": "code",
   "execution_count": 1,
   "id": "c4587189-c172-4db0-9e0c-08870c96b6bd",
   "metadata": {},
   "outputs": [
    {
     "name": "stdout",
     "output_type": "stream",
     "text": [
      "[24, 90, 14, 9]\n"
     ]
    }
   ],
   "source": [
    "#sum of 2 lists\n",
    "\n",
    "l=[1,34,6,7]\n",
    "l1=[23,56,8,2]\n",
    "newlist=[]\n",
    "\n",
    "for i in range(len(l)):\n",
    "    n=l[i]+l1[i]\n",
    "    newlist.append(n)\n",
    "\n",
    "print(newlist)"
   ]
  },
  {
   "cell_type": "code",
   "execution_count": 7,
   "id": "00a4b4a7-db93-499d-bcf0-c369e1b24a5f",
   "metadata": {},
   "outputs": [
    {
     "data": {
      "text/plain": [
       "array([[ 1,  2],\n",
       "       [ 3,  4],\n",
       "       [ 5,  6],\n",
       "       [ 7,  8],\n",
       "       [ 9, 10],\n",
       "       [11, 12]])"
      ]
     },
     "execution_count": 7,
     "metadata": {},
     "output_type": "execute_result"
    }
   ],
   "source": [
    "\n",
    "\n",
    "import numpy as np\n",
    "\n",
    "k=np.array([1,2,3,4,5,6,7,8,9,10,11,12])\n",
    "k.reshape(6,2)"
   ]
  },
  {
   "cell_type": "code",
   "execution_count": 5,
   "id": "f5c91596-332a-4244-bdb8-722c8b1e8492",
   "metadata": {},
   "outputs": [
    {
     "data": {
      "text/plain": [
       "array([[ 1,  2,  3,  4],\n",
       "       [ 5,  6,  7,  8],\n",
       "       [ 9, 10, 11, 12]])"
      ]
     },
     "execution_count": 5,
     "metadata": {},
     "output_type": "execute_result"
    }
   ],
   "source": [
    "import numpy as np\n",
    "k=np.array([1,2,3,4,5,6,7,8,9,10,11,12])\n",
    "k.reshape(3,4)"
   ]
  },
  {
   "cell_type": "code",
   "execution_count": 9,
   "id": "461c558d-ce69-4fdf-be5c-713bd29cf1c3",
   "metadata": {},
   "outputs": [
    {
     "name": "stdout",
     "output_type": "stream",
     "text": [
      "[ 1  2  3  4  5  6  7  8  9 10]\n",
      "[ 1  2 50  4  5  6  7  8  9 10]\n"
     ]
    }
   ],
   "source": [
    "#copy and view\n",
    "\n",
    "import numpy as np\n",
    "\n",
    "a=np.array([1,2,3,4,5,6,7,8,9,10])\n",
    "\n",
    "x=a.copy()\n",
    "x[2]=50\n",
    "\n",
    "print(a)\n",
    "print(x)"
   ]
  },
  {
   "cell_type": "code",
   "execution_count": 13,
   "id": "24b0afc6-115c-4404-a0f9-08a3e78088a0",
   "metadata": {},
   "outputs": [
    {
     "name": "stdout",
     "output_type": "stream",
     "text": [
      "[ 1  2 50  4  5  6  7  8  9 10]\n",
      "[ 1  2 50  4  5  6  7  8  9 10]\n"
     ]
    }
   ],
   "source": [
    "a = np.array([1,2,3,4,5,6,7,8,9,10])\n",
    "x = a.view()\n",
    "x[2] = 50\n",
    "\n",
    "print(a)\n",
    "print(x)"
   ]
  },
  {
   "cell_type": "code",
   "execution_count": 23,
   "id": "732c8fef-81e2-4003-9fce-15ef2cbeffcf",
   "metadata": {},
   "outputs": [
    {
     "name": "stdout",
     "output_type": "stream",
     "text": [
      "Addition: [[ 7  9 11]\n",
      " [ 5  7  9]]\n",
      "Subtraction: [[ 5  5  5]\n",
      " [-3 -3 -3]]\n",
      "Multiplication: [[ 6 14 24]\n",
      " [ 4 10 18]]\n",
      "Division: [[6.         3.5        2.66666667]\n",
      " [0.25       0.4        0.5       ]]\n"
     ]
    }
   ],
   "source": [
    "import numpy as np\n",
    "\n",
    "a = np.array([[6,7,8],[1,2,3]])\n",
    "b = np.array([[1,2,3],[4,5,6]])\n",
    "\n",
    "\n",
    "addition = a+b\n",
    "subtraction = a-b\n",
    "multiplication = a*b\n",
    "division = a/b\n",
    "\n",
    "print(\"Addition:\",addition)\n",
    "print(\"Subtraction:\",subtraction)\n",
    "print(\"Multiplication:\",multiplication)\n",
    "print(\"Division:\",division)"
   ]
  },
  {
   "cell_type": "code",
   "execution_count": 25,
   "id": "83640e9a-a673-49eb-931f-8d12277ae48d",
   "metadata": {},
   "outputs": [
    {
     "name": "stdout",
     "output_type": "stream",
     "text": [
      "int32\n"
     ]
    }
   ],
   "source": [
    "import numpy as np\n",
    "\n",
    "a = np.array([1, 2, 3, 4])\n",
    "# print(type(a))\n",
    "print(a.dtype)"
   ]
  },
  {
   "cell_type": "code",
   "execution_count": 29,
   "id": "1794c82c-1512-473f-86a7-b6fb524e4932",
   "metadata": {},
   "outputs": [
    {
     "name": "stdout",
     "output_type": "stream",
     "text": [
      "[1 2 4]\n",
      "int32\n"
     ]
    }
   ],
   "source": [
    "newa = np.array([1.1,2.3,4.5])\n",
    "\n",
    "newarr = newa.astype(int)\n",
    "\n",
    "print(newarr)\n",
    "print(newarr.dtype)"
   ]
  },
  {
   "cell_type": "code",
   "execution_count": 31,
   "id": "3df6e7b9-53c7-4056-91f8-ec96bfcb0eb1",
   "metadata": {},
   "outputs": [
    {
     "name": "stdout",
     "output_type": "stream",
     "text": [
      "[1 2 3]\n",
      "int64\n"
     ]
    }
   ],
   "source": [
    "newa = np.array([\"1\", \"2\", \"3\"])\n",
    "\n",
    "newarr = newa.astype(\"i8\")\n",
    "\n",
    "print(newarr)\n",
    "print(newarr.dtype)"
   ]
  },
  {
   "cell_type": "code",
   "execution_count": null,
   "id": "72f580b0-81f4-43a4-b480-9c1ef6cd905c",
   "metadata": {},
   "outputs": [],
   "source": []
  }
 ],
 "metadata": {
  "kernelspec": {
   "display_name": "Python 3 (ipykernel)",
   "language": "python",
   "name": "python3"
  },
  "language_info": {
   "codemirror_mode": {
    "name": "ipython",
    "version": 3
   },
   "file_extension": ".py",
   "mimetype": "text/x-python",
   "name": "python",
   "nbconvert_exporter": "python",
   "pygments_lexer": "ipython3",
   "version": "3.12.7"
  }
 },
 "nbformat": 4,
 "nbformat_minor": 5
}
