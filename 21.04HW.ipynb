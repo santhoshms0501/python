{
 "cells": [
  {
   "cell_type": "code",
   "execution_count": 19,
   "id": "1db6c695-2c21-43f0-a573-c676950fef09",
   "metadata": {},
   "outputs": [
    {
     "name": "stdout",
     "output_type": "stream",
     "text": [
      "{0: 2, 10: 1, 1: 2, 5: 1, 78: 1, 6: 2, 4: 1, 8: 1, 9: 1, 3: 1}\n"
     ]
    }
   ],
   "source": [
    "#repeated number in the list\n",
    "#output comes as dictionary \n",
    "\n",
    "k=[0,10,1,5,78,6,4,1,0,8,6,9,3,]\n",
    "l={}\n",
    "\n",
    "for i in k:\n",
    "    if i not in l.keys():\n",
    "        l[i]=1\n",
    "    else:\n",
    "        l[i]=l[i]+1\n",
    "\n",
    "print(l)"
   ]
  },
  {
   "cell_type": "code",
   "execution_count": 13,
   "id": "b5e42d6a-467c-4db9-80f0-229287cd941f",
   "metadata": {},
   "outputs": [
    {
     "name": "stdout",
     "output_type": "stream",
     "text": [
      "98\n"
     ]
    }
   ],
   "source": [
    "#largest value in the list\n",
    "\n",
    "k=[20,4,65,98,7,90]\n",
    "l=k[0]\n",
    "for i in k:\n",
    "    if i>l:\n",
    "        l=i\n",
    "\n",
    "print(l)"
   ]
  },
  {
   "cell_type": "code",
   "execution_count": 15,
   "id": "b2362e51-cdf3-4d02-b3ea-3e0d7a4e7088",
   "metadata": {},
   "outputs": [
    {
     "name": "stdout",
     "output_type": "stream",
     "text": [
      "0 1\n",
      "1 4\n",
      "2 68\n",
      "3 81\n",
      "4 1741\n",
      "5 78\n"
     ]
    }
   ],
   "source": [
    "#print the values and length at the same time\n",
    "\n",
    "k=[1,4,68,81,1741,78]\n",
    "\n",
    "for i in range(len(k)):\n",
    "    print (i,k[i])"
   ]
  },
  {
   "cell_type": "code",
   "execution_count": 17,
   "id": "57e1db9e-09ed-4262-8d6e-82fd38df0706",
   "metadata": {},
   "outputs": [
    {
     "name": "stdout",
     "output_type": "stream",
     "text": [
      "17\n"
     ]
    }
   ],
   "source": [
    "#Function\n",
    "\n",
    "def add():\n",
    "    k=8\n",
    "    b=9\n",
    "    print(k+b)\n",
    "\n",
    "add()"
   ]
  },
  {
   "cell_type": "code",
   "execution_count": 21,
   "id": "d2664e05-f445-4638-8f58-03b3a04abd10",
   "metadata": {},
   "outputs": [
    {
     "name": "stdout",
     "output_type": "stream",
     "text": [
      "14\n",
      "-4\n"
     ]
    }
   ],
   "source": [
    "def add(a,b):\n",
    "    print(a+b)\n",
    "\n",
    "def sub(a,b):\n",
    "    print(a-b)\n",
    "\n",
    "add(6,8)\n",
    "sub(5,9)"
   ]
  },
  {
   "cell_type": "code",
   "execution_count": null,
   "id": "f8904183-abfc-4d12-82ae-8b4ef0ce3116",
   "metadata": {},
   "outputs": [],
   "source": []
  }
 ],
 "metadata": {
  "kernelspec": {
   "display_name": "Python 3 (ipykernel)",
   "language": "python",
   "name": "python3"
  },
  "language_info": {
   "codemirror_mode": {
    "name": "ipython",
    "version": 3
   },
   "file_extension": ".py",
   "mimetype": "text/x-python",
   "name": "python",
   "nbconvert_exporter": "python",
   "pygments_lexer": "ipython3",
   "version": "3.12.7"
  }
 },
 "nbformat": 4,
 "nbformat_minor": 5
}
