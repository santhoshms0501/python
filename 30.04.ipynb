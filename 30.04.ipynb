{
 "cells": [
  {
   "cell_type": "markdown",
   "id": "96563df7-5b12-4635-a9eb-26fc4622ebc6",
   "metadata": {},
   "source": [
    "# Classes and Objects"
   ]
  },
  {
   "cell_type": "code",
   "execution_count": 13,
   "id": "822c0c61-5ec7-4e72-9bd6-d18e1b0fa67d",
   "metadata": {},
   "outputs": [
    {
     "name": "stdout",
     "output_type": "stream",
     "text": [
      "12\n"
     ]
    }
   ],
   "source": [
    "class calculate:\n",
    "    a=5\n",
    "    b=7\n",
    "    c=a+b\n",
    "\n",
    "obj=calculate()\n",
    "print(obj.c)"
   ]
  },
  {
   "cell_type": "code",
   "execution_count": 15,
   "id": "984ee6b1-d15e-4bb9-8753-7211069df5fe",
   "metadata": {},
   "outputs": [
    {
     "name": "stdout",
     "output_type": "stream",
     "text": [
      "3\n"
     ]
    }
   ],
   "source": [
    "class myobject:\n",
    "    def add(self):\n",
    "        a=7\n",
    "        b=4\n",
    "        print(a+b)\n",
    "    def sub(self):\n",
    "        a=8\n",
    "        b=5\n",
    "        print(a-b)\n",
    "\n",
    "cal=myobject()\n",
    "cal.sub()"
   ]
  },
  {
   "cell_type": "code",
   "execution_count": 19,
   "id": "c1c4665f-ba0b-45e1-8527-f3429952924c",
   "metadata": {},
   "outputs": [
    {
     "name": "stdout",
     "output_type": "stream",
     "text": [
      "27\n"
     ]
    }
   ],
   "source": [
    "class myobject1:\n",
    "    def multi(self):\n",
    "        a=3\n",
    "        b=9\n",
    "        print(a*b)\n",
    "    def div(self):\n",
    "        a=15\n",
    "        b=4\n",
    "        print(a/b)\n",
    "\n",
    "cal1=myobject1()\n",
    "cal1.multi()"
   ]
  },
  {
   "cell_type": "code",
   "execution_count": 3,
   "id": "8679da3b-e5bd-4fea-a044-3efd5dc0185a",
   "metadata": {},
   "outputs": [
    {
     "name": "stdout",
     "output_type": "stream",
     "text": [
      "98\n"
     ]
    }
   ],
   "source": [
    "class myobject:\n",
    "    def add(self):\n",
    "        a=4\n",
    "        b=5\n",
    "        print(a+b)\n",
    "    def sub(self):\n",
    "        a=90\n",
    "        b=5\n",
    "        print(a-b)\n",
    "\n",
    "class myobject1:\n",
    "    def add(self):\n",
    "        a=8\n",
    "        b=90\n",
    "        c=a+b\n",
    "        print(a+b)\n",
    "    def sub(self):\n",
    "        a=78\n",
    "        b=512\n",
    "        print(a-b)\n",
    "\n",
    "\n",
    "        \n",
    "add1=myobject1()\n",
    "add1.add()\n",
    "\n"
   ]
  },
  {
   "cell_type": "code",
   "execution_count": 5,
   "id": "11975080-bcf7-4cec-b33f-6a63ca657dae",
   "metadata": {},
   "outputs": [
    {
     "name": "stdout",
     "output_type": "stream",
     "text": [
      "9\n"
     ]
    }
   ],
   "source": [
    "class myobject:\n",
    "    def add(self):\n",
    "        a=4\n",
    "        b=5\n",
    "        return (a+b)\n",
    "\n",
    "\n",
    "\n",
    "add1=myobject()\n",
    "k=add1.add()\n",
    "print(k)"
   ]
  },
  {
   "cell_type": "code",
   "execution_count": null,
   "id": "b1c3778d-4265-42a3-9607-87f50bc9bfb4",
   "metadata": {},
   "outputs": [],
   "source": []
  }
 ],
 "metadata": {
  "kernelspec": {
   "display_name": "Python 3 (ipykernel)",
   "language": "python",
   "name": "python3"
  },
  "language_info": {
   "codemirror_mode": {
    "name": "ipython",
    "version": 3
   },
   "file_extension": ".py",
   "mimetype": "text/x-python",
   "name": "python",
   "nbconvert_exporter": "python",
   "pygments_lexer": "ipython3",
   "version": "3.12.7"
  }
 },
 "nbformat": 4,
 "nbformat_minor": 5
}
