{
 "cells": [
  {
   "cell_type": "code",
   "execution_count": 31,
   "id": "a89215ec-b9c7-47dd-affc-fa0a2d02a639",
   "metadata": {},
   "outputs": [
    {
     "name": "stdin",
     "output_type": "stream",
     "text": [
      "Enter the number: 68\n",
      "Enter the number: 33\n",
      "Enter your choice(add,sub,multi,div): multi\n"
     ]
    },
    {
     "name": "stdout",
     "output_type": "stream",
     "text": [
      "2244.0\n",
      "Total: None\n"
     ]
    }
   ],
   "source": [
    "class calci:\n",
    "    def __init__(self,a,b):\n",
    "        self.a1=a\n",
    "        self.b1=b\n",
    "\n",
    "    def add(self):\n",
    "        print(self.a1+self.b1)\n",
    "\n",
    "    def sub(self):\n",
    "        print(self.a1-self.b1)\n",
    "\n",
    "    def multi(self):\n",
    "        print(self.a1*self.b1)\n",
    "\n",
    "    def div(self):\n",
    "        if self.b1!=0:\n",
    "            print(self.a1/self.b1)\n",
    "        else:\n",
    "            print(\"Zero Division Error\")\n",
    "\n",
    "a1=float(input(\"Enter the number:\"))\n",
    "b1=float(input(\"Enter the number:\"))\n",
    "\n",
    "cal1=calci(a1,b1)\n",
    "\n",
    "choice = input(\"Enter your choice(add,sub,multi,div):\")\n",
    "\n",
    "if choice == 'add':\n",
    "    print(\"Total:\", cal1.add())\n",
    "elif choice == 'sub':\n",
    "    print(\"Total:\", cal1.sub())\n",
    "elif choice == 'multi':\n",
    "    print(\"Total:\", cal1.multi())\n",
    "elif choice == 'div':\n",
    "    print(\"Total:\", cal1.div())\n",
    "else:\n",
    "    print(\"Enter valid choice\")"
   ]
  },
  {
   "cell_type": "code",
   "execution_count": 35,
   "id": "730c3d45-d240-4bf3-a45a-9544a05fc272",
   "metadata": {},
   "outputs": [
    {
     "name": "stdout",
     "output_type": "stream",
     "text": [
      "CSE\n"
     ]
    }
   ],
   "source": [
    "class university:\n",
    "    def college(self):\n",
    "        print(\"abc college\")\n",
    "        \n",
    "        \n",
    "    def __department(self):\n",
    "        print(\"CSE\")\n",
    "\n",
    "    def depatments(self):\n",
    "        self.__department()\n",
    "        \n",
    "\n",
    "uni=university()\n",
    "uni.depatments()"
   ]
  },
  {
   "cell_type": "code",
   "execution_count": 39,
   "id": "97e069e4-ffd8-4f41-a31a-c9848063e283",
   "metadata": {},
   "outputs": [
    {
     "name": "stdout",
     "output_type": "stream",
     "text": [
      "book1\n"
     ]
    }
   ],
   "source": [
    "class lib:\n",
    "    def __init__(self):\n",
    "        self.__book1=\"book1\"\n",
    "        self.book2=\"book2\"\n",
    "        self.__book3=\"book3\"\n",
    "        \n",
    "    def lib2(self):\n",
    "        print(self.book2)\n",
    "        \n",
    "    def lib3(self):\n",
    "        self.__lib4()\n",
    "    \n",
    "    def __lib4(self):\n",
    "        print(self.__book1)\n",
    "obj=lib()\n",
    "obj.lib3()\n",
    "        "
   ]
  },
  {
   "cell_type": "code",
   "execution_count": 41,
   "id": "762e868f-7eda-4098-b1f2-7186a2be26bc",
   "metadata": {},
   "outputs": [
    {
     "name": "stdout",
     "output_type": "stream",
     "text": [
      "Woof!\n",
      "Meow!\n"
     ]
    }
   ],
   "source": [
    "class Dog:\n",
    "    def sound(self):\n",
    "        return \"Woof!\"\n",
    "\n",
    "class Cat:\n",
    "    def sound(self):\n",
    "        return \"Meow!\"\n",
    "dog=Dog()\n",
    "print(dog.sound())\n",
    "\n",
    "cat=Cat()\n",
    "print(cat.sound())"
   ]
  },
  {
   "cell_type": "code",
   "execution_count": null,
   "id": "dfdabfdc-416b-42fb-9a7f-d57a70cd5e09",
   "metadata": {},
   "outputs": [],
   "source": []
  }
 ],
 "metadata": {
  "kernelspec": {
   "display_name": "Python 3 (ipykernel)",
   "language": "python",
   "name": "python3"
  },
  "language_info": {
   "codemirror_mode": {
    "name": "ipython",
    "version": 3
   },
   "file_extension": ".py",
   "mimetype": "text/x-python",
   "name": "python",
   "nbconvert_exporter": "python",
   "pygments_lexer": "ipython3",
   "version": "3.12.7"
  }
 },
 "nbformat": 4,
 "nbformat_minor": 5
}
